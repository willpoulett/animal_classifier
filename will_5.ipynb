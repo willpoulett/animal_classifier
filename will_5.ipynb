{
 "cells": [
  {
   "attachments": {},
   "cell_type": "markdown",
   "metadata": {
    "tags": []
   },
   "source": [
    "# Introduction to image classification using camera trap images"
   ]
  },
  {
   "attachments": {},
   "cell_type": "markdown",
   "metadata": {},
   "source": [
    "Next, let's import some of the usual suspects:"
   ]
  },
  {
   "cell_type": "code",
   "execution_count": 1,
   "metadata": {},
   "outputs": [],
   "source": [
    "%matplotlib inline\n",
    "\n",
    "import matplotlib.pyplot as plt\n",
    "import pandas as pd\n",
    "from PIL import Image\n",
    "from tqdm import tqdm\n",
    "import torch"
   ]
  },
  {
   "cell_type": "code",
   "execution_count": 2,
   "metadata": {},
   "outputs": [],
   "source": [
    "# Use CUDA\n",
    "DEVICE = torch.device(\"cuda\" if torch.cuda.is_available() else \"cpu\")"
   ]
  },
  {
   "cell_type": "code",
   "execution_count": 3,
   "metadata": {},
   "outputs": [],
   "source": [
    "train_features = pd.read_csv(\"train_features.csv\", index_col=\"id\")\n",
    "test_features = pd.read_csv(\"test_features.csv\", index_col=\"id\")\n",
    "train_labels = pd.read_csv(\"train_labels.csv\", index_col=\"id\")"
   ]
  },
  {
   "cell_type": "code",
   "execution_count": 4,
   "metadata": {},
   "outputs": [
    {
     "data": {
      "text/plain": [
       "['antelope_duiker',\n",
       " 'bird',\n",
       " 'blank',\n",
       " 'civet_genet',\n",
       " 'hog',\n",
       " 'leopard',\n",
       " 'monkey_prosimian',\n",
       " 'rodent']"
      ]
     },
     "execution_count": 4,
     "metadata": {},
     "output_type": "execute_result"
    }
   ],
   "source": [
    "species_labels = sorted(train_labels.columns.unique())\n",
    "species_labels"
   ]
  },
  {
   "cell_type": "code",
   "execution_count": 5,
   "metadata": {},
   "outputs": [],
   "source": [
    "from sklearn.model_selection import train_test_split\n",
    "\n",
    "frac = 1\n",
    "\n",
    "y = train_labels.sample(frac=frac, random_state=1)\n",
    "x = train_features.loc[y.index].filepath.to_frame()\n",
    "\n",
    "# note that we are casting the species labels to an indicator/dummy matrix\n",
    "x_train, x_eval, y_train, y_eval = train_test_split(\n",
    "    x, y, stratify=y, test_size=0.15\n",
    ")"
   ]
  },
  {
   "cell_type": "code",
   "execution_count": 6,
   "metadata": {},
   "outputs": [
    {
     "data": {
      "text/plain": [
       "((14014, 1), (14014, 8), (2474, 1), (2474, 8))"
      ]
     },
     "execution_count": 6,
     "metadata": {},
     "output_type": "execute_result"
    }
   ],
   "source": [
    "x_train.shape, y_train.shape, x_eval.shape, y_eval.shape"
   ]
  },
  {
   "attachments": {},
   "cell_type": "markdown",
   "metadata": {},
   "source": [
    "Next, let's validate that our split has resulted in roughly similar relative distributions of species across the train and eval sets (because of how we passed `stratify=y` above)."
   ]
  },
  {
   "cell_type": "code",
   "execution_count": 7,
   "metadata": {},
   "outputs": [
    {
     "name": "stdout",
     "output_type": "stream",
     "text": [
      "Species percentages by split\n"
     ]
    },
    {
     "data": {
      "text/html": [
       "<div>\n",
       "<style scoped>\n",
       "    .dataframe tbody tr th:only-of-type {\n",
       "        vertical-align: middle;\n",
       "    }\n",
       "\n",
       "    .dataframe tbody tr th {\n",
       "        vertical-align: top;\n",
       "    }\n",
       "\n",
       "    .dataframe thead th {\n",
       "        text-align: right;\n",
       "    }\n",
       "</style>\n",
       "<table border=\"1\" class=\"dataframe\">\n",
       "  <thead>\n",
       "    <tr style=\"text-align: right;\">\n",
       "      <th></th>\n",
       "      <th>train</th>\n",
       "      <th>eval</th>\n",
       "    </tr>\n",
       "  </thead>\n",
       "  <tbody>\n",
       "    <tr>\n",
       "      <th>monkey_prosimian</th>\n",
       "      <td>15</td>\n",
       "      <td>15</td>\n",
       "    </tr>\n",
       "    <tr>\n",
       "      <th>antelope_duiker</th>\n",
       "      <td>15</td>\n",
       "      <td>14</td>\n",
       "    </tr>\n",
       "    <tr>\n",
       "      <th>civet_genet</th>\n",
       "      <td>14</td>\n",
       "      <td>14</td>\n",
       "    </tr>\n",
       "    <tr>\n",
       "      <th>leopard</th>\n",
       "      <td>13</td>\n",
       "      <td>13</td>\n",
       "    </tr>\n",
       "    <tr>\n",
       "      <th>blank</th>\n",
       "      <td>13</td>\n",
       "      <td>13</td>\n",
       "    </tr>\n",
       "    <tr>\n",
       "      <th>rodent</th>\n",
       "      <td>12</td>\n",
       "      <td>12</td>\n",
       "    </tr>\n",
       "    <tr>\n",
       "      <th>bird</th>\n",
       "      <td>9</td>\n",
       "      <td>9</td>\n",
       "    </tr>\n",
       "    <tr>\n",
       "      <th>hog</th>\n",
       "      <td>5</td>\n",
       "      <td>5</td>\n",
       "    </tr>\n",
       "  </tbody>\n",
       "</table>\n",
       "</div>"
      ],
      "text/plain": [
       "                  train  eval\n",
       "monkey_prosimian     15    15\n",
       "antelope_duiker      15    14\n",
       "civet_genet          14    14\n",
       "leopard              13    13\n",
       "blank                13    13\n",
       "rodent               12    12\n",
       "bird                  9     9\n",
       "hog                   5     5"
      ]
     },
     "execution_count": 7,
     "metadata": {},
     "output_type": "execute_result"
    }
   ],
   "source": [
    "split_pcts = pd.DataFrame(\n",
    "    {\n",
    "        \"train\": y_train.idxmax(axis=1).value_counts(normalize=True),\n",
    "        \"eval\": y_eval.idxmax(axis=1).value_counts(normalize=True),\n",
    "    }\n",
    ")\n",
    "print(\"Species percentages by split\")\n",
    "(split_pcts.fillna(0) * 100).astype(int)"
   ]
  },
  {
   "attachments": {},
   "cell_type": "markdown",
   "metadata": {},
   "source": [
    "## 5. Build the Model"
   ]
  },
  {
   "attachments": {},
   "cell_type": "markdown",
   "metadata": {},
   "source": [
    "### The Dataset\n",
    "\n",
    "First, we'll create an `ImagesDataset` class that will define how we access our data and any transformations we might want to apply. \n",
    "\n",
    "This new class will inherit from the PyTorch [`Dataset`](https://pytorch.org/tutorials/beginner/basics/data_tutorial.html) class, but we'll also need to define our own `__init__`, `__len__` and `__getitem__` **special methods**:\n",
    "* **`__init__`** will instantiate the dataset object with two dataframes: an `x_train` df containing image IDs and image file paths, and a `y_train` df containing image IDs and labels. This will run once when we first create the dataset object, e.g. with `dataset = ImagesDataset(x_train, y_train)`.\n",
    "* **`__getitem__`** will define how we access a sample from the data. This method gets called whenever we use an indexing operation like `dataset[index]`. In this case, whenever accessing a particular image sample (for example, to get the first image we'd do `dataset[0]`) the following will happen:\n",
    "  * look up the image filepath using the index\n",
    "  * load the image with [`PIL.Image`](https://pillow.readthedocs.io/en/stable/reference/Image.html)\n",
    "  * apply some transformations (more on this below)\n",
    "  * return a dictionary containing the image ID, the image itself as a Tensor, and a label (if it exists)\n",
    "* **`__len__`** simply returns the size of the dataset, which we do by calling `len` on the input dataframe."
   ]
  },
  {
   "cell_type": "code",
   "execution_count": 8,
   "metadata": {
    "tags": []
   },
   "outputs": [],
   "source": [
    "import torch\n",
    "from torch.utils.data import Dataset\n",
    "from torchvision import transforms\n",
    "\n",
    "\n",
    "class ImagesDataset(Dataset):\n",
    "    \"\"\"Reads in an image, transforms pixel values, and serves\n",
    "    a dictionary containing the image id, image tensors, and label.\n",
    "    \"\"\"\n",
    "\n",
    "    def __init__(self, x_df, y_df=None, epoch = 0, eval = False):\n",
    "        self.data = x_df\n",
    "        self.label = y_df\n",
    "\n",
    "        if eval:\n",
    "\n",
    "            #no transformations but resize\n",
    "            self.transform = transforms.Compose(\n",
    "                [\n",
    "                    transforms.Resize((224, 224)),\n",
    "                    transforms.ToTensor(),\n",
    "                    transforms.Normalize(\n",
    "                        mean=(0.485, 0.456, 0.406), std=(0.229, 0.224, 0.225)\n",
    "                    ),  \n",
    "                ]\n",
    "            )\n",
    "\n",
    "        else:\n",
    "\n",
    "            if epoch == 1:\n",
    "                print(\"Using non-transformed images\")\n",
    "                self.transform = transforms.Compose(\n",
    "                [\n",
    "                transforms.Resize((224, 224)),\n",
    "                transforms.ToTensor(),\n",
    "                transforms.Normalize(\n",
    "                    mean=(0.485, 0.456, 0.406), std=(0.229, 0.224, 0.225)\n",
    "                    ),\n",
    "                ])\n",
    "\n",
    "            elif epoch == 2:\n",
    "                print(\"Using grayscale images\")\n",
    "                #greyscale images\n",
    "                self.transform = transforms.Compose(\n",
    "                [\n",
    "                transforms.Resize((224, 224)),\n",
    "                transforms.Grayscale(3),\n",
    "                transforms.ToTensor(),\n",
    "                transforms.Normalize(\n",
    "                    mean=(0.485, 0.456, 0.406), std=(0.229, 0.224, 0.225)\n",
    "                    ),\n",
    "                ]) \n",
    "            elif epoch == 3:\n",
    "                #horizontal flip\n",
    "                print(\"Using horizontally flipped images\")\n",
    "                self.transform = transforms.Compose(\n",
    "                [\n",
    "                transforms.Resize((224, 224)),\n",
    "                transforms.RandomHorizontalFlip(p=1),\n",
    "                transforms.ToTensor(),\n",
    "                transforms.Normalize(\n",
    "                    mean=(0.485, 0.456, 0.406), std=(0.229, 0.224, 0.225)\n",
    "                    ),\n",
    "                ])\n",
    "            elif epoch == 4:\n",
    "                #random tilt\n",
    "                print(\"Using random tilt images\")\n",
    "                self.transform = transforms.Compose(\n",
    "                [\n",
    "                transforms.Resize((224, 224)),\n",
    "                transforms.RandomRotation(10),\n",
    "                transforms.ToTensor(),\n",
    "                transforms.Normalize(\n",
    "                    mean=(0.485, 0.456, 0.406), std=(0.229, 0.224, 0.225)\n",
    "                    ),\n",
    "                ])\n",
    "            elif epoch == 5:\n",
    "                #random colour jitter.\n",
    "                print(\"Using colour jitter images\")\n",
    "                self.transform = transforms.Compose(\n",
    "                [\n",
    "                transforms.Resize((224, 224)),\n",
    "                transforms.ColorJitter(0.2,0.2,0.2,0.2),\n",
    "                transforms.ToTensor(),\n",
    "                transforms.Normalize(\n",
    "                    mean=(0.485, 0.456, 0.406), std=(0.229, 0.224, 0.225)\n",
    "                    ),\n",
    "                ])\n",
    "                #no transformations but resize\n",
    "            else:\n",
    "                print(\"Using random selection of transformations\")\n",
    "                self.transform = transforms.Compose(\n",
    "                [\n",
    "                transforms.Resize((224, 224)),\n",
    "                transforms.RandomApply([\n",
    "                    transforms.RandomHorizontalFlip(p=0.5),\n",
    "                    transforms.RandomRotation(10),\n",
    "                    ],0.3),\n",
    "                transforms.RandomApply([\n",
    "                    transforms.ColorJitter(0.2,0.2,0.2,0.2),\n",
    "                    transforms.Grayscale(3)\n",
    "                    ],0.5), \n",
    "                transforms.ToTensor(),\n",
    "                transforms.Normalize(\n",
    "                    mean=(0.485, 0.456, 0.406), std=(0.229, 0.224, 0.225)\n",
    "                    ),\n",
    "                ])\n",
    "        \n",
    "                \n",
    "\n",
    "    def __getitem__(self, index):\n",
    "        image = Image.open(self.data.iloc[index][\"filepath\"]).convert(\"RGB\")\n",
    "        image = self.transform(image)\n",
    "        image_id = self.data.index[index]\n",
    "        # if we don't have labels (e.g. for test set) just return the image and image id\n",
    "        if self.label is None:\n",
    "            sample = {\"image_id\": image_id, \"image\": image}\n",
    "        else:\n",
    "            label = torch.tensor(self.label.iloc[index].values, \n",
    "                                 dtype=torch.float)\n",
    "            sample = {\"image_id\": image_id, \"image\": image, \"label\": label}\n",
    "        return sample\n",
    "\n",
    "    def __len__(self):\n",
    "        return len(self.data)"
   ]
  },
  {
   "cell_type": "code",
   "execution_count": 9,
   "metadata": {},
   "outputs": [
    {
     "name": "stderr",
     "output_type": "stream",
     "text": [
      "Downloading: \"https://github.com/lukemelas/EfficientNet-PyTorch/releases/download/1.0/efficientnet-b4-6ed6700e.pth\" to C:\\Users\\Will Poulett/.cache\\torch\\hub\\checkpoints\\efficientnet-b4-6ed6700e.pth\n",
      "100%|██████████| 74.4M/74.4M [00:02<00:00, 36.6MB/s]\n"
     ]
    },
    {
     "name": "stdout",
     "output_type": "stream",
     "text": [
      "Loaded pretrained weights for efficientnet-b4\n"
     ]
    }
   ],
   "source": [
    "from torch import nn\n",
    "import torchvision.models as models\n",
    "\n",
    "\n",
    "from efficientnet_pytorch import EfficientNet\n",
    "\n",
    "model = EfficientNet.from_pretrained('efficientnet-b4', num_classes=8)\n",
    "\n",
    "model.fc = nn.Sequential(\n",
    "    nn.Flatten(),\n",
    "    nn.Linear(2048, 100),  # dense layer takes a 2048-dim input and outputs 100-dim\n",
    "    nn.ReLU(inplace=True),  # ReLU activation introduces non-linearity\n",
    "    nn.Dropout(0.1),  # common technique to mitigate overfitting\n",
    "    nn.Linear(\n",
    "        100, 8\n",
    "    ),  # final dense layer outputs 8-dim corresponding to our target classes\n",
    ")"
   ]
  },
  {
   "attachments": {},
   "cell_type": "markdown",
   "metadata": {},
   "source": [
    "### Define our loss function\n",
    "Cross entropy loss (or log loss) is a commonly used loss function for multi-class (not multi-label) image classification. We'll use this to compute loss for each training batch and then update our parameters accordingly. "
   ]
  },
  {
   "cell_type": "code",
   "execution_count": 10,
   "metadata": {},
   "outputs": [],
   "source": [
    "# Send model to GPU\n",
    "# Send the model to GPU\n",
    "model = model.to(DEVICE)"
   ]
  },
  {
   "cell_type": "code",
   "execution_count": 11,
   "metadata": {
    "tags": []
   },
   "outputs": [
    {
     "name": "stdout",
     "output_type": "stream",
     "text": [
      "Starting epoch 1\n",
      "Using non-transformed images\n"
     ]
    },
    {
     "name": "stderr",
     "output_type": "stream",
     "text": [
      "100%|██████████| 1752/1752 [05:53<00:00,  4.96it/s]\n"
     ]
    },
    {
     "name": "stdout",
     "output_type": "stream",
     "text": [
      "SGD lr 0.0010 -> 0.0010\n",
      "The average loss: 1.345\n",
      "Starting epoch 2\n",
      "Using grayscale images\n"
     ]
    },
    {
     "name": "stderr",
     "output_type": "stream",
     "text": [
      "100%|██████████| 1752/1752 [06:01<00:00,  4.85it/s]\n"
     ]
    },
    {
     "name": "stdout",
     "output_type": "stream",
     "text": [
      "SGD lr 0.0010 -> 0.0009\n",
      "The average loss: 0.803\n",
      "Starting epoch 3\n",
      "Using horizontally flipped images\n"
     ]
    },
    {
     "name": "stderr",
     "output_type": "stream",
     "text": [
      "100%|██████████| 1752/1752 [06:16<00:00,  4.66it/s]\n"
     ]
    },
    {
     "name": "stdout",
     "output_type": "stream",
     "text": [
      "SGD lr 0.0009 -> 0.0009\n",
      "The average loss: 0.646\n",
      "Starting epoch 4\n",
      "Using random tilt images\n"
     ]
    },
    {
     "name": "stderr",
     "output_type": "stream",
     "text": [
      "100%|██████████| 1752/1752 [08:14<00:00,  3.54it/s]\n"
     ]
    },
    {
     "name": "stdout",
     "output_type": "stream",
     "text": [
      "SGD lr 0.0009 -> 0.0009\n",
      "The average loss: 0.564\n",
      "Starting epoch 5\n",
      "Using colour jitter images\n"
     ]
    },
    {
     "name": "stderr",
     "output_type": "stream",
     "text": [
      "100%|██████████| 1752/1752 [08:16<00:00,  3.53it/s]\n"
     ]
    },
    {
     "name": "stdout",
     "output_type": "stream",
     "text": [
      "SGD lr 0.0009 -> 0.0008\n",
      "The average loss: 0.35\n",
      "Starting epoch 6\n",
      "Using random selection of transformations\n"
     ]
    },
    {
     "name": "stderr",
     "output_type": "stream",
     "text": [
      "100%|██████████| 1752/1752 [05:37<00:00,  5.19it/s]\n"
     ]
    },
    {
     "name": "stdout",
     "output_type": "stream",
     "text": [
      "SGD lr 0.0008 -> 0.0008\n",
      "The average loss: 0.292\n",
      "Starting epoch 7\n",
      "Using random selection of transformations\n"
     ]
    },
    {
     "name": "stderr",
     "output_type": "stream",
     "text": [
      "100%|██████████| 1752/1752 [06:51<00:00,  4.25it/s]\n"
     ]
    },
    {
     "name": "stdout",
     "output_type": "stream",
     "text": [
      "SGD lr 0.0008 -> 0.0008\n",
      "The average loss: 0.23\n",
      "Starting epoch 8\n",
      "Using random selection of transformations\n"
     ]
    },
    {
     "name": "stderr",
     "output_type": "stream",
     "text": [
      "100%|██████████| 1752/1752 [06:29<00:00,  4.50it/s]\n"
     ]
    },
    {
     "name": "stdout",
     "output_type": "stream",
     "text": [
      "SGD lr 0.0008 -> 0.0007\n",
      "The average loss: 0.184\n",
      "Starting epoch 9\n",
      "Using random selection of transformations\n"
     ]
    },
    {
     "name": "stderr",
     "output_type": "stream",
     "text": [
      "100%|██████████| 1752/1752 [06:21<00:00,  4.59it/s]\n"
     ]
    },
    {
     "name": "stdout",
     "output_type": "stream",
     "text": [
      "SGD lr 0.0007 -> 0.0007\n",
      "The average loss: 0.145\n",
      "Starting epoch 10\n",
      "Using random selection of transformations\n"
     ]
    },
    {
     "name": "stderr",
     "output_type": "stream",
     "text": [
      "100%|██████████| 1752/1752 [06:33<00:00,  4.46it/s]\n"
     ]
    },
    {
     "name": "stdout",
     "output_type": "stream",
     "text": [
      "SGD lr 0.0007 -> 0.0007\n",
      "The average loss: 0.131\n",
      "Starting epoch 11\n",
      "Using random selection of transformations\n"
     ]
    },
    {
     "name": "stderr",
     "output_type": "stream",
     "text": [
      "100%|██████████| 1752/1752 [06:34<00:00,  4.44it/s]\n"
     ]
    },
    {
     "name": "stdout",
     "output_type": "stream",
     "text": [
      "SGD lr 0.0007 -> 0.0006\n",
      "The average loss: 0.111\n",
      "Starting epoch 12\n",
      "Using random selection of transformations\n"
     ]
    },
    {
     "name": "stderr",
     "output_type": "stream",
     "text": [
      "100%|██████████| 1752/1752 [06:11<00:00,  4.71it/s]\n"
     ]
    },
    {
     "name": "stdout",
     "output_type": "stream",
     "text": [
      "SGD lr 0.0006 -> 0.0006\n",
      "The average loss: 0.089\n",
      "Starting epoch 13\n",
      "Using random selection of transformations\n"
     ]
    },
    {
     "name": "stderr",
     "output_type": "stream",
     "text": [
      "100%|██████████| 1752/1752 [06:12<00:00,  4.70it/s]\n"
     ]
    },
    {
     "name": "stdout",
     "output_type": "stream",
     "text": [
      "SGD lr 0.0006 -> 0.0006\n",
      "The average loss: 0.08\n",
      "Starting epoch 14\n",
      "Using random selection of transformations\n"
     ]
    },
    {
     "name": "stderr",
     "output_type": "stream",
     "text": [
      "100%|██████████| 1752/1752 [05:59<00:00,  4.88it/s]\n"
     ]
    },
    {
     "name": "stdout",
     "output_type": "stream",
     "text": [
      "SGD lr 0.0006 -> 0.0005\n",
      "The average loss: 0.071\n",
      "Starting epoch 15\n",
      "Using random selection of transformations\n"
     ]
    },
    {
     "name": "stderr",
     "output_type": "stream",
     "text": [
      "100%|██████████| 1752/1752 [06:04<00:00,  4.80it/s]\n"
     ]
    },
    {
     "name": "stdout",
     "output_type": "stream",
     "text": [
      "SGD lr 0.0005 -> 0.0005\n",
      "The average loss: 0.059\n",
      "Starting epoch 16\n",
      "Using random selection of transformations\n"
     ]
    },
    {
     "name": "stderr",
     "output_type": "stream",
     "text": [
      "100%|██████████| 1752/1752 [05:53<00:00,  4.96it/s]\n"
     ]
    },
    {
     "name": "stdout",
     "output_type": "stream",
     "text": [
      "SGD lr 0.0005 -> 0.0005\n",
      "The average loss: 0.058\n",
      "Starting epoch 17\n",
      "Using random selection of transformations\n"
     ]
    },
    {
     "name": "stderr",
     "output_type": "stream",
     "text": [
      "100%|██████████| 1752/1752 [05:33<00:00,  5.26it/s]\n"
     ]
    },
    {
     "name": "stdout",
     "output_type": "stream",
     "text": [
      "SGD lr 0.0005 -> 0.0004\n",
      "The average loss: 0.049\n",
      "Starting epoch 18\n",
      "Using random selection of transformations\n"
     ]
    },
    {
     "name": "stderr",
     "output_type": "stream",
     "text": [
      "100%|██████████| 1752/1752 [07:27<00:00,  3.91it/s]\n"
     ]
    },
    {
     "name": "stdout",
     "output_type": "stream",
     "text": [
      "SGD lr 0.0004 -> 0.0004\n",
      "The average loss: 0.05\n",
      "Starting epoch 19\n",
      "Using random selection of transformations\n"
     ]
    },
    {
     "name": "stderr",
     "output_type": "stream",
     "text": [
      "100%|██████████| 1752/1752 [07:53<00:00,  3.70it/s]\n"
     ]
    },
    {
     "name": "stdout",
     "output_type": "stream",
     "text": [
      "SGD lr 0.0004 -> 0.0004\n",
      "The average loss: 0.047\n",
      "Starting epoch 20\n",
      "Using random selection of transformations\n"
     ]
    },
    {
     "name": "stderr",
     "output_type": "stream",
     "text": [
      "100%|██████████| 1752/1752 [06:48<00:00,  4.29it/s]\n"
     ]
    },
    {
     "name": "stdout",
     "output_type": "stream",
     "text": [
      "SGD lr 0.0004 -> 0.0003\n",
      "The average loss: 0.037\n",
      "Starting epoch 21\n",
      "Using random selection of transformations\n"
     ]
    },
    {
     "name": "stderr",
     "output_type": "stream",
     "text": [
      "100%|██████████| 1752/1752 [06:47<00:00,  4.30it/s]\n"
     ]
    },
    {
     "name": "stdout",
     "output_type": "stream",
     "text": [
      "SGD lr 0.0003 -> 0.0003\n",
      "The average loss: 0.04\n",
      "Starting epoch 22\n",
      "Using random selection of transformations\n"
     ]
    },
    {
     "name": "stderr",
     "output_type": "stream",
     "text": [
      "100%|██████████| 1752/1752 [07:04<00:00,  4.12it/s]\n"
     ]
    },
    {
     "name": "stdout",
     "output_type": "stream",
     "text": [
      "SGD lr 0.0003 -> 0.0003\n",
      "The average loss: 0.037\n",
      "Starting epoch 23\n",
      "Using random selection of transformations\n"
     ]
    },
    {
     "name": "stderr",
     "output_type": "stream",
     "text": [
      "100%|██████████| 1752/1752 [06:48<00:00,  4.29it/s]\n"
     ]
    },
    {
     "name": "stdout",
     "output_type": "stream",
     "text": [
      "SGD lr 0.0003 -> 0.0002\n",
      "The average loss: 0.033\n",
      "Starting epoch 24\n",
      "Using random selection of transformations\n"
     ]
    },
    {
     "name": "stderr",
     "output_type": "stream",
     "text": [
      "100%|██████████| 1752/1752 [07:17<00:00,  4.01it/s]\n"
     ]
    },
    {
     "name": "stdout",
     "output_type": "stream",
     "text": [
      "SGD lr 0.0002 -> 0.0002\n",
      "The average loss: 0.033\n",
      "Starting epoch 25\n",
      "Using random selection of transformations\n"
     ]
    },
    {
     "name": "stderr",
     "output_type": "stream",
     "text": [
      "100%|██████████| 1752/1752 [05:50<00:00,  4.99it/s]\n"
     ]
    },
    {
     "name": "stdout",
     "output_type": "stream",
     "text": [
      "SGD lr 0.0002 -> 0.0002\n",
      "The average loss: 0.031\n",
      "Starting epoch 26\n",
      "Using random selection of transformations\n"
     ]
    },
    {
     "name": "stderr",
     "output_type": "stream",
     "text": [
      "100%|██████████| 1752/1752 [05:50<00:00,  4.99it/s]\n"
     ]
    },
    {
     "name": "stdout",
     "output_type": "stream",
     "text": [
      "SGD lr 0.0002 -> 0.0001\n",
      "The average loss: 0.03\n",
      "Starting epoch 27\n",
      "Using random selection of transformations\n"
     ]
    },
    {
     "name": "stderr",
     "output_type": "stream",
     "text": [
      "100%|██████████| 1752/1752 [06:01<00:00,  4.84it/s]\n"
     ]
    },
    {
     "name": "stdout",
     "output_type": "stream",
     "text": [
      "SGD lr 0.0001 -> 0.0001\n",
      "The average loss: 0.028\n",
      "Starting epoch 28\n",
      "Using random selection of transformations\n"
     ]
    },
    {
     "name": "stderr",
     "output_type": "stream",
     "text": [
      "100%|██████████| 1752/1752 [05:59<00:00,  4.87it/s]\n"
     ]
    },
    {
     "name": "stdout",
     "output_type": "stream",
     "text": [
      "SGD lr 0.0001 -> 0.0001\n",
      "The average loss: 0.029\n",
      "Starting epoch 29\n",
      "Using random selection of transformations\n"
     ]
    },
    {
     "name": "stderr",
     "output_type": "stream",
     "text": [
      "100%|██████████| 1752/1752 [05:56<00:00,  4.91it/s]\n"
     ]
    },
    {
     "name": "stdout",
     "output_type": "stream",
     "text": [
      "SGD lr 0.0001 -> 0.0000\n",
      "The average loss: 0.025\n",
      "Starting epoch 30\n",
      "Using random selection of transformations\n"
     ]
    },
    {
     "name": "stderr",
     "output_type": "stream",
     "text": [
      "100%|██████████| 1752/1752 [06:08<00:00,  4.75it/s]"
     ]
    },
    {
     "name": "stdout",
     "output_type": "stream",
     "text": [
      "SGD lr 0.0000 -> 0.0000\n",
      "The average loss: 0.028\n"
     ]
    },
    {
     "name": "stderr",
     "output_type": "stream",
     "text": [
      "\n"
     ]
    }
   ],
   "source": [
    "from torch.utils.data import DataLoader\n",
    "import torch.optim as optim\n",
    "import torch.optim.lr_scheduler as lr_scheduler\n",
    "\n",
    "num_epochs = 30\n",
    "\n",
    "#Define loss function\n",
    "\n",
    "criterion = nn.CrossEntropyLoss()\n",
    "optimizer = optim.SGD(model.parameters(), lr=0.001, momentum=0.9)\n",
    "scheduler = lr_scheduler.LinearLR(optimizer, start_factor=1.0, end_factor=0.01, total_iters=num_epochs)\n",
    "\n",
    "tracking_loss = {}\n",
    "\n",
    "for epoch in range(1, num_epochs + 1):\n",
    "    print(f\"Starting epoch {epoch}\")\n",
    "    loss_array = []\n",
    "    \n",
    "    train_dataset = ImagesDataset(x_train, y_train, epoch)\n",
    "    train_dataloader = DataLoader(train_dataset, batch_size=8)\n",
    "\n",
    "    # iterate through the dataloader batches. tqdm keeps track of progress.\n",
    "    for batch_n, batch in tqdm(\n",
    "        enumerate(train_dataloader), total=len(train_dataloader)\n",
    "    ):\n",
    "        \n",
    "        # 1) zero out the parameter gradients so that gradients from previous batches are not used in this step\n",
    "        optimizer.zero_grad()\n",
    "        # 2) run the forward step on this batch of images\n",
    "        outputs = model(batch[\"image\"].to(DEVICE))\n",
    "        # 3) compute the loss\n",
    "        loss = criterion(outputs, batch[\"label\"].to(DEVICE))\n",
    "        loss_array.append(float(loss))\n",
    "        # let's keep track of the loss by epoch and batch\n",
    "        tracking_loss[(epoch, batch_n)] = float(loss)\n",
    "        # 4) compute our gradients\n",
    "        loss.backward()\n",
    "        # update our weights\n",
    "        optimizer.step()\n",
    "\n",
    "    before_lr = optimizer.param_groups[0][\"lr\"]\n",
    "    scheduler.step()\n",
    "    after_lr = optimizer.param_groups[0][\"lr\"]\n",
    "\n",
    "    print(\"SGD lr %.4f -> %.4f\" % (before_lr, after_lr))\n",
    "\n",
    "    print(f\"The average loss: {round( (sum(loss_array)/len(loss_array)),3)}\")"
   ]
  },
  {
   "attachments": {},
   "cell_type": "markdown",
   "metadata": {},
   "source": [
    "Now let's plot the loss by epoch and batch. The x-axis here is a tuple of `(epoch, batch)`."
   ]
  },
  {
   "cell_type": "code",
   "execution_count": 12,
   "metadata": {},
   "outputs": [
    {
     "data": {
      "text/plain": [
       "<matplotlib.legend.Legend at 0x2303bcea690>"
      ]
     },
     "execution_count": 12,
     "metadata": {},
     "output_type": "execute_result"
    },
    {
     "data": {
      "image/png": "[encoded data removed]",
      "text/plain": [
       "<Figure size 1000x500 with 1 Axes>"
      ]
     },
     "metadata": {},
     "output_type": "display_data"
    }
   ],
   "source": [
    "tracking_loss = pd.Series(tracking_loss)\n",
    "\n",
    "plt.figure(figsize=(10, 5))\n",
    "tracking_loss.plot(alpha=0.2, label=\"loss\")\n",
    "tracking_loss.rolling(center=True, min_periods=1, window=10).mean().plot(\n",
    "    label=\"loss (moving avg)\"\n",
    ")\n",
    "plt.xlabel(\"(Epoch, Batch)\")\n",
    "plt.ylabel(\"Loss\")\n",
    "plt.legend(loc=0)"
   ]
  },
  {
   "attachments": {},
   "cell_type": "markdown",
   "metadata": {},
   "source": [
    "Good news, the loss is going down! This is an encouraging start, especially since we haven't done anything fancy yet."
   ]
  },
  {
   "attachments": {},
   "cell_type": "markdown",
   "metadata": {},
   "source": [
    "### Save the model\n",
    "We have the model loaded in memory already, so we don't really need to save the model, but it's often useful to do this so we can use it again later. \n",
    "\n",
    "Here's how:"
   ]
  },
  {
   "cell_type": "code",
   "execution_count": 13,
   "metadata": {},
   "outputs": [],
   "source": [
    "torch.save(model, \"model.pth\")"
   ]
  },
  {
   "attachments": {},
   "cell_type": "markdown",
   "metadata": {},
   "source": [
    "## 7. Evaluation\n",
    "So far, not so bad. We've shown an improvement in the loss on the training set, but that tells us little about how our model will do on new data. Let's reload our saved model and try generating some predictions on the evaluation split we created earlier."
   ]
  },
  {
   "cell_type": "code",
   "execution_count": 14,
   "metadata": {},
   "outputs": [],
   "source": [
    "loaded_model = torch.load(\"model.pth\")"
   ]
  },
  {
   "attachments": {},
   "cell_type": "markdown",
   "metadata": {},
   "source": [
    "We create the eval dataset and dataloader just like we did earlier with the training dataset and dataloader:"
   ]
  },
  {
   "cell_type": "code",
   "execution_count": 15,
   "metadata": {},
   "outputs": [],
   "source": [
    "eval_dataset = ImagesDataset(x_eval, y_eval, eval = True)\n",
    "eval_dataloader = DataLoader(eval_dataset, batch_size=32)"
   ]
  },
  {
   "attachments": {},
   "cell_type": "markdown",
   "metadata": {},
   "source": [
    "### Make predictions\n",
    "We'll iterate through the eval dataloader in batches, just like we did for training, but this time we aren't going to need to compute gradients or update weights. For each batch, we'll do the following:\n",
    "1. Run the forward pass to get the model output or logits\n",
    "2. Apply a softmax function to convert the logits into probability space with range[0,1]. During training, the softmax operation was handled internally by `nn.CrossEntropyLoss`. We aren't computing the loss now because we are just doing evaluation, but we still want the predictions to be in the range[0,1]. \n",
    "3. Store the results in a dataframe for further analysis"
   ]
  },
  {
   "cell_type": "code",
   "execution_count": 16,
   "metadata": {
    "tags": []
   },
   "outputs": [
    {
     "name": "stderr",
     "output_type": "stream",
     "text": [
      "100%|██████████| 78/78 [00:44<00:00,  1.75it/s]\n"
     ]
    },
    {
     "data": {
      "text/html": [
       "<div>\n",
       "<style scoped>\n",
       "    .dataframe tbody tr th:only-of-type {\n",
       "        vertical-align: middle;\n",
       "    }\n",
       "\n",
       "    .dataframe tbody tr th {\n",
       "        vertical-align: top;\n",
       "    }\n",
       "\n",
       "    .dataframe thead th {\n",
       "        text-align: right;\n",
       "    }\n",
       "</style>\n",
       "<table border=\"1\" class=\"dataframe\">\n",
       "  <thead>\n",
       "    <tr style=\"text-align: right;\">\n",
       "      <th></th>\n",
       "      <th>antelope_duiker</th>\n",
       "      <th>bird</th>\n",
       "      <th>blank</th>\n",
       "      <th>civet_genet</th>\n",
       "      <th>hog</th>\n",
       "      <th>leopard</th>\n",
       "      <th>monkey_prosimian</th>\n",
       "      <th>rodent</th>\n",
       "    </tr>\n",
       "  </thead>\n",
       "  <tbody>\n",
       "    <tr>\n",
       "      <th>ZJ002535</th>\n",
       "      <td>1.101304e-03</td>\n",
       "      <td>1.251797e-04</td>\n",
       "      <td>9.886092e-01</td>\n",
       "      <td>1.923360e-05</td>\n",
       "      <td>2.066554e-03</td>\n",
       "      <td>8.057927e-03</td>\n",
       "      <td>5.129602e-06</td>\n",
       "      <td>1.545357e-05</td>\n",
       "    </tr>\n",
       "    <tr>\n",
       "      <th>ZJ002261</th>\n",
       "      <td>4.482090e-08</td>\n",
       "      <td>9.999943e-01</td>\n",
       "      <td>3.849775e-06</td>\n",
       "      <td>2.872078e-09</td>\n",
       "      <td>2.638224e-08</td>\n",
       "      <td>4.439055e-07</td>\n",
       "      <td>3.873715e-07</td>\n",
       "      <td>9.591158e-07</td>\n",
       "    </tr>\n",
       "    <tr>\n",
       "      <th>ZJ011684</th>\n",
       "      <td>3.972766e-07</td>\n",
       "      <td>9.257856e-08</td>\n",
       "      <td>2.242145e-08</td>\n",
       "      <td>1.829741e-08</td>\n",
       "      <td>9.999993e-01</td>\n",
       "      <td>2.401359e-08</td>\n",
       "      <td>1.173508e-07</td>\n",
       "      <td>1.052787e-07</td>\n",
       "    </tr>\n",
       "    <tr>\n",
       "      <th>ZJ002061</th>\n",
       "      <td>9.999902e-01</td>\n",
       "      <td>1.953521e-08</td>\n",
       "      <td>2.565697e-07</td>\n",
       "      <td>1.132574e-11</td>\n",
       "      <td>9.164002e-06</td>\n",
       "      <td>7.964544e-09</td>\n",
       "      <td>2.338733e-07</td>\n",
       "      <td>8.722970e-08</td>\n",
       "    </tr>\n",
       "    <tr>\n",
       "      <th>ZJ004769</th>\n",
       "      <td>3.828820e-02</td>\n",
       "      <td>5.664549e-06</td>\n",
       "      <td>9.593897e-01</td>\n",
       "      <td>7.187031e-07</td>\n",
       "      <td>5.359811e-07</td>\n",
       "      <td>1.162555e-06</td>\n",
       "      <td>1.523793e-04</td>\n",
       "      <td>2.161626e-03</td>\n",
       "    </tr>\n",
       "    <tr>\n",
       "      <th>...</th>\n",
       "      <td>...</td>\n",
       "      <td>...</td>\n",
       "      <td>...</td>\n",
       "      <td>...</td>\n",
       "      <td>...</td>\n",
       "      <td>...</td>\n",
       "      <td>...</td>\n",
       "      <td>...</td>\n",
       "    </tr>\n",
       "    <tr>\n",
       "      <th>ZJ014620</th>\n",
       "      <td>3.447804e-09</td>\n",
       "      <td>3.123158e-10</td>\n",
       "      <td>9.999986e-01</td>\n",
       "      <td>5.421961e-10</td>\n",
       "      <td>1.320667e-09</td>\n",
       "      <td>5.168284e-11</td>\n",
       "      <td>1.012738e-06</td>\n",
       "      <td>4.464735e-07</td>\n",
       "    </tr>\n",
       "    <tr>\n",
       "      <th>ZJ004289</th>\n",
       "      <td>1.981539e-06</td>\n",
       "      <td>1.862781e-08</td>\n",
       "      <td>4.920333e-09</td>\n",
       "      <td>9.999950e-01</td>\n",
       "      <td>2.938132e-09</td>\n",
       "      <td>1.063010e-07</td>\n",
       "      <td>6.660464e-08</td>\n",
       "      <td>2.802333e-06</td>\n",
       "    </tr>\n",
       "    <tr>\n",
       "      <th>ZJ002545</th>\n",
       "      <td>7.185293e-07</td>\n",
       "      <td>9.224321e-11</td>\n",
       "      <td>1.476356e-07</td>\n",
       "      <td>9.999979e-01</td>\n",
       "      <td>1.667907e-08</td>\n",
       "      <td>2.513558e-08</td>\n",
       "      <td>1.839372e-08</td>\n",
       "      <td>1.153039e-06</td>\n",
       "    </tr>\n",
       "    <tr>\n",
       "      <th>ZJ010780</th>\n",
       "      <td>1.207044e-06</td>\n",
       "      <td>1.085386e-06</td>\n",
       "      <td>6.058041e-07</td>\n",
       "      <td>9.999946e-01</td>\n",
       "      <td>8.268437e-07</td>\n",
       "      <td>9.944434e-07</td>\n",
       "      <td>7.985739e-09</td>\n",
       "      <td>6.875097e-07</td>\n",
       "    </tr>\n",
       "    <tr>\n",
       "      <th>ZJ000644</th>\n",
       "      <td>7.784224e-06</td>\n",
       "      <td>7.740305e-06</td>\n",
       "      <td>1.514189e-01</td>\n",
       "      <td>8.947253e-07</td>\n",
       "      <td>5.281247e-05</td>\n",
       "      <td>1.470534e-06</td>\n",
       "      <td>4.967017e-06</td>\n",
       "      <td>8.485054e-01</td>\n",
       "    </tr>\n",
       "  </tbody>\n",
       "</table>\n",
       "<p>2474 rows × 8 columns</p>\n",
       "</div>"
      ],
      "text/plain": [
       "          antelope_duiker          bird         blank   civet_genet  \\\n",
       "ZJ002535     1.101304e-03  1.251797e-04  9.886092e-01  1.923360e-05   \n",
       "ZJ002261     4.482090e-08  9.999943e-01  3.849775e-06  2.872078e-09   \n",
       "ZJ011684     3.972766e-07  9.257856e-08  2.242145e-08  1.829741e-08   \n",
       "ZJ002061     9.999902e-01  1.953521e-08  2.565697e-07  1.132574e-11   \n",
       "ZJ004769     3.828820e-02  5.664549e-06  9.593897e-01  7.187031e-07   \n",
       "...                   ...           ...           ...           ...   \n",
       "ZJ014620     3.447804e-09  3.123158e-10  9.999986e-01  5.421961e-10   \n",
       "ZJ004289     1.981539e-06  1.862781e-08  4.920333e-09  9.999950e-01   \n",
       "ZJ002545     7.185293e-07  9.224321e-11  1.476356e-07  9.999979e-01   \n",
       "ZJ010780     1.207044e-06  1.085386e-06  6.058041e-07  9.999946e-01   \n",
       "ZJ000644     7.784224e-06  7.740305e-06  1.514189e-01  8.947253e-07   \n",
       "\n",
       "                   hog       leopard  monkey_prosimian        rodent  \n",
       "ZJ002535  2.066554e-03  8.057927e-03      5.129602e-06  1.545357e-05  \n",
       "ZJ002261  2.638224e-08  4.439055e-07      3.873715e-07  9.591158e-07  \n",
       "ZJ011684  9.999993e-01  2.401359e-08      1.173508e-07  1.052787e-07  \n",
       "ZJ002061  9.164002e-06  7.964544e-09      2.338733e-07  8.722970e-08  \n",
       "ZJ004769  5.359811e-07  1.162555e-06      1.523793e-04  2.161626e-03  \n",
       "...                ...           ...               ...           ...  \n",
       "ZJ014620  1.320667e-09  5.168284e-11      1.012738e-06  4.464735e-07  \n",
       "ZJ004289  2.938132e-09  1.063010e-07      6.660464e-08  2.802333e-06  \n",
       "ZJ002545  1.667907e-08  2.513558e-08      1.839372e-08  1.153039e-06  \n",
       "ZJ010780  8.268437e-07  9.944434e-07      7.985739e-09  6.875097e-07  \n",
       "ZJ000644  5.281247e-05  1.470534e-06      4.967017e-06  8.485054e-01  \n",
       "\n",
       "[2474 rows x 8 columns]"
      ]
     },
     "execution_count": 16,
     "metadata": {},
     "output_type": "execute_result"
    }
   ],
   "source": [
    "preds_collector = []\n",
    "\n",
    "# put the model in eval mode so we don't update any parameters\n",
    "model.eval()\n",
    "\n",
    "# we aren't updating our weights so no need to calculate gradients\n",
    "with torch.no_grad():\n",
    "    for batch in tqdm(eval_dataloader, total=len(eval_dataloader)):\n",
    "        # 1) run the forward step\n",
    "        logits = model.forward(batch[\"image\"].to(DEVICE))\n",
    "        # 2) apply softmax so that model outputs are in range [0,1]\n",
    "        preds = nn.functional.softmax(logits, dim=1).to(DEVICE)\n",
    "        # 3) store this batch's predictions in df\n",
    "        # note that PyTorch Tensors need to first be detached from their computational graph before converting to numpy arrays\n",
    "        preds_df = pd.DataFrame(\n",
    "            preds.cpu().detach().numpy(),\n",
    "            index=batch[\"image_id\"],\n",
    "            columns=species_labels,\n",
    "        )\n",
    "        preds_collector.append(preds_df)\n",
    "\n",
    "eval_preds_df = pd.concat(preds_collector)\n",
    "eval_preds_df"
   ]
  },
  {
   "attachments": {},
   "cell_type": "markdown",
   "metadata": {
    "tags": []
   },
   "source": [
    "### Predicted labels distribution\n",
    "First let's review the species distribution we saw in the training set."
   ]
  },
  {
   "cell_type": "code",
   "execution_count": 17,
   "metadata": {},
   "outputs": [
    {
     "name": "stdout",
     "output_type": "stream",
     "text": [
      "True labels (training):\n"
     ]
    },
    {
     "data": {
      "text/plain": [
       "monkey_prosimian    2118\n",
       "antelope_duiker     2103\n",
       "civet_genet         2059\n",
       "leopard             1916\n",
       "blank               1881\n",
       "rodent              1711\n",
       "bird                1395\n",
       "hog                  831\n",
       "dtype: int64"
      ]
     },
     "execution_count": 17,
     "metadata": {},
     "output_type": "execute_result"
    }
   ],
   "source": [
    "print(\"True labels (training):\")\n",
    "y_train.idxmax(axis=1).value_counts()"
   ]
  },
  {
   "attachments": {},
   "cell_type": "markdown",
   "metadata": {},
   "source": [
    "Here's the distribution of our predictions on the eval set. "
   ]
  },
  {
   "cell_type": "code",
   "execution_count": 18,
   "metadata": {},
   "outputs": [
    {
     "name": "stdout",
     "output_type": "stream",
     "text": [
      "Predicted labels (eval):\n"
     ]
    },
    {
     "data": {
      "text/plain": [
       "monkey_prosimian    371\n",
       "civet_genet         368\n",
       "leopard             336\n",
       "rodent              330\n",
       "blank               329\n",
       "antelope_duiker     320\n",
       "bird                258\n",
       "hog                 162\n",
       "dtype: int64"
      ]
     },
     "execution_count": 18,
     "metadata": {},
     "output_type": "execute_result"
    }
   ],
   "source": [
    "print(\"Predicted labels (eval):\")\n",
    "eval_preds_df.idxmax(axis=1).value_counts()"
   ]
  },
  {
   "attachments": {},
   "cell_type": "markdown",
   "metadata": {},
   "source": [
    "The actual evaluation set is more evenly distributed than our predictions, so we already know there is some room for improvement here."
   ]
  },
  {
   "cell_type": "code",
   "execution_count": 19,
   "metadata": {},
   "outputs": [
    {
     "name": "stdout",
     "output_type": "stream",
     "text": [
      "True labels (eval):\n"
     ]
    },
    {
     "data": {
      "text/plain": [
       "monkey_prosimian    374\n",
       "antelope_duiker     371\n",
       "civet_genet         364\n",
       "leopard             338\n",
       "blank               332\n",
       "rodent              302\n",
       "bird                246\n",
       "hog                 147\n",
       "dtype: int64"
      ]
     },
     "execution_count": 19,
     "metadata": {},
     "output_type": "execute_result"
    }
   ],
   "source": [
    "print(\"True labels (eval):\")\n",
    "y_eval.idxmax(axis=1).value_counts()"
   ]
  },
  {
   "attachments": {},
   "cell_type": "markdown",
   "metadata": {},
   "source": [
    "### Accuracy\n",
    "Now let's compute how accurate our model is and compare that against some trivial baseline models. First let's get the labels with the highest score for each image."
   ]
  },
  {
   "cell_type": "code",
   "execution_count": 20,
   "metadata": {},
   "outputs": [
    {
     "data": {
      "text/plain": [
       "ZJ002535              blank\n",
       "ZJ002261               bird\n",
       "ZJ011684                hog\n",
       "ZJ002061    antelope_duiker\n",
       "ZJ004769              blank\n",
       "dtype: object"
      ]
     },
     "execution_count": 20,
     "metadata": {},
     "output_type": "execute_result"
    }
   ],
   "source": [
    "eval_predictions = eval_preds_df.idxmax(axis=1)\n",
    "eval_predictions.head()"
   ]
  },
  {
   "cell_type": "code",
   "execution_count": 21,
   "metadata": {},
   "outputs": [
    {
     "data": {
      "text/plain": [
       "0.15117219078415522"
      ]
     },
     "execution_count": 21,
     "metadata": {},
     "output_type": "execute_result"
    }
   ],
   "source": [
    "eval_true = y_eval.idxmax(axis=1)\n",
    "\n",
    "(eval_true == \"monkey_prosimian\").sum() / len(eval_predictions)"
   ]
  },
  {
   "cell_type": "code",
   "execution_count": 22,
   "metadata": {},
   "outputs": [
    {
     "data": {
      "text/plain": [
       "0.902586903799515"
      ]
     },
     "execution_count": 22,
     "metadata": {},
     "output_type": "execute_result"
    }
   ],
   "source": [
    "correct = (eval_predictions == eval_true).sum()\n",
    "accuracy = correct / len(eval_predictions)\n",
    "accuracy"
   ]
  },
  {
   "cell_type": "code",
   "execution_count": 23,
   "metadata": {},
   "outputs": [
    {
     "data": {
      "image/png": "[encoded data removed]",
      "text/plain": [
       "<Figure size 1000x1000 with 2 Axes>"
      ]
     },
     "metadata": {},
     "output_type": "display_data"
    }
   ],
   "source": [
    "from sklearn.metrics import ConfusionMatrixDisplay\n",
    "\n",
    "fig, ax = plt.subplots(figsize=(10, 10))\n",
    "cm = ConfusionMatrixDisplay.from_predictions(\n",
    "    y_eval.idxmax(axis=1),\n",
    "    eval_preds_df.idxmax(axis=1),\n",
    "    ax=ax,\n",
    "    xticks_rotation=90,\n",
    "    colorbar=True,\n",
    ")"
   ]
  },
  {
   "attachments": {},
   "cell_type": "markdown",
   "metadata": {},
   "source": [
    "That's where you come in! What can you do to improve on this benchmark?\n",
    "\n",
    "Here are some ideas you might want to try:\n",
    "* Train on the full training dataset. We've only used 50% of the training data so far.\n",
    "* Train for more epochs. We've only done 1 so far.\n",
    "* Try another pretrained model. For example, you may have more success with EfficientNet, or another ResNet model with more layers like ResNet152. See what's available from pytorch [here](https://pytorch.org/vision/stable/models.html). You may also want to review which models are or have been state of the art for image classification tasks, for example on [paperswithcode.com](https://paperswithcode.com/task/image-classification). Keep in mind that different models will require different input and output dimensions, so you'll need to update how you construct `model` above.\n",
    "* Experiment with different loss functions.\n",
    "* Experiment with different learning rates or learning rate schedulers.\n",
    "* Add more layers to the model head (`model.fc`).\n",
    "* You also may want to consider freezing the weights in the backbone model and only training the head (`model.fc`). If this results in higher accuracy, that suggests the current approach may be overwriting the backbone weights in a problematic way. One approach here would be to train just the model head, and then unfreeze the backbone but train at a lower learning rate.\n",
    "* Training will be much faster using GPUs, but you will need to make some small tweaks to the code.\n",
    "* As you become more comfortable iterating through different versions of the model, you may want to try out [PyTorch Lightning](https://www.pytorchlightning.ai/) or [Lightning Flash](https://lightning-flash.readthedocs.io/en/latest/quickstart.html), which build upon PyTorch and eliminate a lot of boilerplate code, in addition to providing a more complete research framework for deep learning problems."
   ]
  },
  {
   "attachments": {},
   "cell_type": "markdown",
   "metadata": {},
   "source": [
    "## 8. Create submission"
   ]
  },
  {
   "attachments": {},
   "cell_type": "markdown",
   "metadata": {},
   "source": [
    "Last but not least, we'll want to participate in the competition and see where we stand on the leaderboard.\n",
    "\n",
    "To do this we need to create predictions for the **competition test set** (not the eval set we used above). You don't have labels for these.\n",
    "\n",
    "We'll create predictions in the same way we did for the `eval` set, but this time using the `test_features` we downloaded from the [competition website](https://www.drivendata.org/competitions/87/competition-image-classification-wildlife-conservation/data/)."
   ]
  },
  {
   "cell_type": "code",
   "execution_count": 24,
   "metadata": {},
   "outputs": [
    {
     "name": "stdout",
     "output_type": "stream",
     "text": [
      "Using random selection of transformations\n"
     ]
    }
   ],
   "source": [
    "test_dataset = ImagesDataset(test_features.filepath.to_frame())\n",
    "test_dataloader = DataLoader(test_dataset, batch_size=32)"
   ]
  },
  {
   "cell_type": "code",
   "execution_count": 25,
   "metadata": {},
   "outputs": [
    {
     "name": "stderr",
     "output_type": "stream",
     "text": [
      "100%|██████████| 140/140 [40:17<00:00, 17.27s/it]  \n"
     ]
    },
    {
     "data": {
      "text/html": [
       "<div>\n",
       "<style scoped>\n",
       "    .dataframe tbody tr th:only-of-type {\n",
       "        vertical-align: middle;\n",
       "    }\n",
       "\n",
       "    .dataframe tbody tr th {\n",
       "        vertical-align: top;\n",
       "    }\n",
       "\n",
       "    .dataframe thead th {\n",
       "        text-align: right;\n",
       "    }\n",
       "</style>\n",
       "<table border=\"1\" class=\"dataframe\">\n",
       "  <thead>\n",
       "    <tr style=\"text-align: right;\">\n",
       "      <th></th>\n",
       "      <th>antelope_duiker</th>\n",
       "      <th>bird</th>\n",
       "      <th>blank</th>\n",
       "      <th>civet_genet</th>\n",
       "      <th>hog</th>\n",
       "      <th>leopard</th>\n",
       "      <th>monkey_prosimian</th>\n",
       "      <th>rodent</th>\n",
       "    </tr>\n",
       "  </thead>\n",
       "  <tbody>\n",
       "    <tr>\n",
       "      <th>ZJ016488</th>\n",
       "      <td>0.000004</td>\n",
       "      <td>4.892845e-07</td>\n",
       "      <td>3.066915e-01</td>\n",
       "      <td>6.926582e-01</td>\n",
       "      <td>2.278872e-07</td>\n",
       "      <td>4.683493e-05</td>\n",
       "      <td>9.507437e-08</td>\n",
       "      <td>0.000599</td>\n",
       "    </tr>\n",
       "    <tr>\n",
       "      <th>ZJ016489</th>\n",
       "      <td>0.002886</td>\n",
       "      <td>9.955721e-01</td>\n",
       "      <td>8.023537e-05</td>\n",
       "      <td>1.578072e-04</td>\n",
       "      <td>1.240442e-03</td>\n",
       "      <td>4.971149e-07</td>\n",
       "      <td>1.877068e-05</td>\n",
       "      <td>0.000045</td>\n",
       "    </tr>\n",
       "    <tr>\n",
       "      <th>ZJ016490</th>\n",
       "      <td>0.861248</td>\n",
       "      <td>2.055898e-03</td>\n",
       "      <td>1.063651e-03</td>\n",
       "      <td>1.186607e-03</td>\n",
       "      <td>1.334636e-01</td>\n",
       "      <td>1.087229e-05</td>\n",
       "      <td>1.803204e-04</td>\n",
       "      <td>0.000791</td>\n",
       "    </tr>\n",
       "    <tr>\n",
       "      <th>ZJ016491</th>\n",
       "      <td>0.000008</td>\n",
       "      <td>2.067670e-04</td>\n",
       "      <td>8.948842e-07</td>\n",
       "      <td>1.156850e-05</td>\n",
       "      <td>1.581940e-03</td>\n",
       "      <td>9.981167e-01</td>\n",
       "      <td>2.422663e-05</td>\n",
       "      <td>0.000050</td>\n",
       "    </tr>\n",
       "    <tr>\n",
       "      <th>ZJ016492</th>\n",
       "      <td>0.003909</td>\n",
       "      <td>2.909952e-01</td>\n",
       "      <td>5.699399e-01</td>\n",
       "      <td>6.104863e-06</td>\n",
       "      <td>3.339576e-03</td>\n",
       "      <td>4.522298e-04</td>\n",
       "      <td>8.372848e-02</td>\n",
       "      <td>0.047629</td>\n",
       "    </tr>\n",
       "    <tr>\n",
       "      <th>...</th>\n",
       "      <td>...</td>\n",
       "      <td>...</td>\n",
       "      <td>...</td>\n",
       "      <td>...</td>\n",
       "      <td>...</td>\n",
       "      <td>...</td>\n",
       "      <td>...</td>\n",
       "      <td>...</td>\n",
       "    </tr>\n",
       "    <tr>\n",
       "      <th>ZJ020947</th>\n",
       "      <td>0.136181</td>\n",
       "      <td>5.322139e-01</td>\n",
       "      <td>4.099782e-02</td>\n",
       "      <td>7.745533e-05</td>\n",
       "      <td>2.273546e-01</td>\n",
       "      <td>5.337453e-04</td>\n",
       "      <td>2.924960e-02</td>\n",
       "      <td>0.033392</td>\n",
       "    </tr>\n",
       "    <tr>\n",
       "      <th>ZJ020948</th>\n",
       "      <td>0.013861</td>\n",
       "      <td>3.783234e-03</td>\n",
       "      <td>9.807938e-01</td>\n",
       "      <td>7.658105e-06</td>\n",
       "      <td>3.615679e-04</td>\n",
       "      <td>5.686590e-05</td>\n",
       "      <td>5.796285e-04</td>\n",
       "      <td>0.000557</td>\n",
       "    </tr>\n",
       "    <tr>\n",
       "      <th>ZJ020949</th>\n",
       "      <td>0.006030</td>\n",
       "      <td>8.210252e-05</td>\n",
       "      <td>9.143159e-01</td>\n",
       "      <td>6.954315e-02</td>\n",
       "      <td>9.966805e-03</td>\n",
       "      <td>5.030610e-05</td>\n",
       "      <td>8.202633e-06</td>\n",
       "      <td>0.000004</td>\n",
       "    </tr>\n",
       "    <tr>\n",
       "      <th>ZJ020950</th>\n",
       "      <td>0.999056</td>\n",
       "      <td>7.589620e-04</td>\n",
       "      <td>2.243078e-08</td>\n",
       "      <td>2.082408e-07</td>\n",
       "      <td>9.615544e-05</td>\n",
       "      <td>8.307366e-07</td>\n",
       "      <td>8.513978e-05</td>\n",
       "      <td>0.000003</td>\n",
       "    </tr>\n",
       "    <tr>\n",
       "      <th>ZJ020951</th>\n",
       "      <td>0.000069</td>\n",
       "      <td>1.053935e-03</td>\n",
       "      <td>2.293712e-04</td>\n",
       "      <td>1.056514e-06</td>\n",
       "      <td>5.762062e-05</td>\n",
       "      <td>9.983371e-01</td>\n",
       "      <td>2.253704e-04</td>\n",
       "      <td>0.000026</td>\n",
       "    </tr>\n",
       "  </tbody>\n",
       "</table>\n",
       "<p>4464 rows × 8 columns</p>\n",
       "</div>"
      ],
      "text/plain": [
       "          antelope_duiker          bird         blank   civet_genet  \\\n",
       "ZJ016488         0.000004  4.892845e-07  3.066915e-01  6.926582e-01   \n",
       "ZJ016489         0.002886  9.955721e-01  8.023537e-05  1.578072e-04   \n",
       "ZJ016490         0.861248  2.055898e-03  1.063651e-03  1.186607e-03   \n",
       "ZJ016491         0.000008  2.067670e-04  8.948842e-07  1.156850e-05   \n",
       "ZJ016492         0.003909  2.909952e-01  5.699399e-01  6.104863e-06   \n",
       "...                   ...           ...           ...           ...   \n",
       "ZJ020947         0.136181  5.322139e-01  4.099782e-02  7.745533e-05   \n",
       "ZJ020948         0.013861  3.783234e-03  9.807938e-01  7.658105e-06   \n",
       "ZJ020949         0.006030  8.210252e-05  9.143159e-01  6.954315e-02   \n",
       "ZJ020950         0.999056  7.589620e-04  2.243078e-08  2.082408e-07   \n",
       "ZJ020951         0.000069  1.053935e-03  2.293712e-04  1.056514e-06   \n",
       "\n",
       "                   hog       leopard  monkey_prosimian    rodent  \n",
       "ZJ016488  2.278872e-07  4.683493e-05      9.507437e-08  0.000599  \n",
       "ZJ016489  1.240442e-03  4.971149e-07      1.877068e-05  0.000045  \n",
       "ZJ016490  1.334636e-01  1.087229e-05      1.803204e-04  0.000791  \n",
       "ZJ016491  1.581940e-03  9.981167e-01      2.422663e-05  0.000050  \n",
       "ZJ016492  3.339576e-03  4.522298e-04      8.372848e-02  0.047629  \n",
       "...                ...           ...               ...       ...  \n",
       "ZJ020947  2.273546e-01  5.337453e-04      2.924960e-02  0.033392  \n",
       "ZJ020948  3.615679e-04  5.686590e-05      5.796285e-04  0.000557  \n",
       "ZJ020949  9.966805e-03  5.030610e-05      8.202633e-06  0.000004  \n",
       "ZJ020950  9.615544e-05  8.307366e-07      8.513978e-05  0.000003  \n",
       "ZJ020951  5.762062e-05  9.983371e-01      2.253704e-04  0.000026  \n",
       "\n",
       "[4464 rows x 8 columns]"
      ]
     },
     "execution_count": 25,
     "metadata": {},
     "output_type": "execute_result"
    }
   ],
   "source": [
    "preds_collector = []\n",
    "\n",
    "# put the model in eval mode so we don't update any parameters\n",
    "model.eval().to(\"cpu\")\n",
    "\n",
    "# we aren't updating our weights so no need to calculate gradients\n",
    "with torch.no_grad():\n",
    "    for batch in tqdm(test_dataloader, total=len(test_dataloader)):\n",
    "        # run the forward step\n",
    "        logits = model.forward(batch[\"image\"])\n",
    "        # apply softmax so that model outputs are in range [0,1]\n",
    "        preds = nn.functional.softmax(logits, dim=1)\n",
    "        # store this batch's predictions in df\n",
    "        # note that PyTorch Tensors need to first be detached from their computational graph before converting to numpy arrays\n",
    "        preds_df = pd.DataFrame(\n",
    "            preds.detach().numpy(),\n",
    "            index=batch[\"image_id\"],\n",
    "            columns=species_labels,\n",
    "        )\n",
    "        preds_collector.append(preds_df)\n",
    "\n",
    "submission_df = pd.concat(preds_collector)\n",
    "submission_df"
   ]
  },
  {
   "attachments": {},
   "cell_type": "markdown",
   "metadata": {},
   "source": [
    "Let's check a couple things on `submission_df` before submitting to the platform. We'll want to make sure our submission's index and column labels match the submission format. (The DrivenData platform will do these data integrity checks as well, but it will be quicker to detect problems this way.)"
   ]
  },
  {
   "cell_type": "code",
   "execution_count": 26,
   "metadata": {},
   "outputs": [],
   "source": [
    "submission_format = pd.read_csv(\"submission_format.csv\", index_col=\"id\")\n",
    "\n",
    "assert all(submission_df.index == submission_format.index)\n",
    "assert all(submission_df.columns == submission_format.columns)"
   ]
  },
  {
   "attachments": {},
   "cell_type": "markdown",
   "metadata": {},
   "source": [
    "Looks like we're ready to submit! Save the dataframe out to a CSV file and then upload it via the [Submissions page](https://www.drivendata.org/competitions/87/competition-image-classification-wildlife-conservation/submissions/) on the competition website."
   ]
  },
  {
   "cell_type": "code",
   "execution_count": 27,
   "metadata": {},
   "outputs": [],
   "source": [
    "submission_df.to_csv(\"submission_df.csv\")"
   ]
  },
  {
   "attachments": {},
   "cell_type": "markdown",
   "metadata": {},
   "source": [
    "How did we do? We should get a score of ~1.8, though your results may differ slightly due to non-determinism in model training. (For reference, a randomly generated submission yields a score of something like ~2.4.)\n",
    "\n",
    "![benchmark submission](https://drivendata-public-assets.s3.amazonaws.com/conservision-benchmark-score.jpg)\n",
    "\n",
    "Now it is up to you to improve on this benchmark!\n",
    "\n",
    "Head over to the [competition](https://www.drivendata.org/competitions/87/competition-image-classification-wildlife-conservation/) for data and more background info, or the [competition forum](https://community.drivendata.org/c/conser-vision/87) if you have any questions. Good luck!"
   ]
  }
 ],
 "metadata": {
  "anaconda-cloud": {},
  "kernelspec": {
   "display_name": "Python 3 (ipykernel)",
   "language": "python",
   "name": "python3"
  },
  "language_info": {
   "codemirror_mode": {
    "name": "ipython",
    "version": 3
   },
   "file_extension": ".py",
   "mimetype": "text/x-python",
   "name": "python",
   "nbconvert_exporter": "python",
   "pygments_lexer": "ipython3",
   "version": "3.11.3"
  }
 },
 "nbformat": 4,
 "nbformat_minor": 4
}

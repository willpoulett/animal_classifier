{
 "cells": [
  {
   "cell_type": "markdown",
   "metadata": {
    "tags": []
   },
   "source": [
    "# Introduction to image classification using camera trap images"
   ]
  },
  {
   "cell_type": "markdown",
   "metadata": {},
   "source": [
    "Next, let's import some of the usual suspects:"
   ]
  },
  {
   "cell_type": "code",
   "execution_count": 1,
   "metadata": {},
   "outputs": [],
   "source": [
    "%matplotlib inline\n",
    "\n",
    "import matplotlib.pyplot as plt\n",
    "import pandas as pd\n",
    "from PIL import Image\n",
    "from tqdm import tqdm\n",
    "import torch"
   ]
  },
  {
   "cell_type": "code",
   "execution_count": 2,
   "metadata": {},
   "outputs": [],
   "source": [
    "# Use CUDA\n",
    "DEVICE = torch.device(\"cuda\" if torch.cuda.is_available() else \"cpu\")"
   ]
  },
  {
   "cell_type": "markdown",
   "metadata": {},
   "source": [
    "Read in the train and test CSVs first and see what they look like."
   ]
  },
  {
   "cell_type": "code",
   "execution_count": 3,
   "metadata": {},
   "outputs": [],
   "source": [
    "train_features = pd.read_csv(\"train_features.csv\", index_col=\"id\")\n",
    "test_features = pd.read_csv(\"test_features.csv\", index_col=\"id\")\n",
    "train_labels = pd.read_csv(\"train_labels.csv\", index_col=\"id\")"
   ]
  },
  {
   "cell_type": "markdown",
   "metadata": {},
   "source": [
    "The `features` CSVs contain the image ID, filepath and site ID for each image. "
   ]
  },
  {
   "cell_type": "markdown",
   "metadata": {},
   "source": [
    "The `train_labels` CSV is an indicator matrix of the species identified in each of the training images. Some images are labeled as \"blank\" if no animal was detected."
   ]
  },
  {
   "cell_type": "code",
   "execution_count": 4,
   "metadata": {},
   "outputs": [
    {
     "name": "stdout",
     "output_type": "stream",
     "text": [
      "['antelope_duiker', 'bird', 'blank', 'civet_genet', 'hog', 'leopard', 'monkey_prosimian', 'rodent']\n"
     ]
    }
   ],
   "source": [
    "species_labels = sorted(train_labels.columns.unique())\n",
    "print(species_labels)"
   ]
  },
  {
   "cell_type": "code",
   "execution_count": 5,
   "metadata": {},
   "outputs": [],
   "source": [
    "from sklearn.model_selection import train_test_split\n",
    "\n",
    "frac = 1\n",
    "\n",
    "y = train_labels.sample(frac=frac, random_state=1)\n",
    "x = train_features.loc[y.index].filepath.to_frame()\n",
    "\n",
    "# note that we are casting the species labels to an indicator/dummy matrix\n",
    "x_train, x_eval, y_train, y_eval = train_test_split(\n",
    "    x, y, stratify=y, test_size=0.2\n",
    ")"
   ]
  },
  {
   "cell_type": "code",
   "execution_count": 6,
   "metadata": {},
   "outputs": [
    {
     "data": {
      "text/plain": [
       "((13190, 1), (13190, 8), (3298, 1), (3298, 8))"
      ]
     },
     "execution_count": 6,
     "metadata": {},
     "output_type": "execute_result"
    }
   ],
   "source": [
    "x_train.shape, y_train.shape, x_eval.shape, y_eval.shape"
   ]
  },
  {
   "cell_type": "markdown",
   "metadata": {},
   "source": [
    "Next, let's validate that our split has resulted in roughly similar relative distributions of species across the train and eval sets (because of how we passed `stratify=y` above)."
   ]
  },
  {
   "cell_type": "code",
   "execution_count": 7,
   "metadata": {},
   "outputs": [
    {
     "name": "stdout",
     "output_type": "stream",
     "text": [
      "Species percentages by split\n"
     ]
    },
    {
     "data": {
      "text/html": [
       "<div>\n",
       "<style scoped>\n",
       "    .dataframe tbody tr th:only-of-type {\n",
       "        vertical-align: middle;\n",
       "    }\n",
       "\n",
       "    .dataframe tbody tr th {\n",
       "        vertical-align: top;\n",
       "    }\n",
       "\n",
       "    .dataframe thead th {\n",
       "        text-align: right;\n",
       "    }\n",
       "</style>\n",
       "<table border=\"1\" class=\"dataframe\">\n",
       "  <thead>\n",
       "    <tr style=\"text-align: right;\">\n",
       "      <th></th>\n",
       "      <th>train</th>\n",
       "      <th>eval</th>\n",
       "    </tr>\n",
       "  </thead>\n",
       "  <tbody>\n",
       "    <tr>\n",
       "      <th>monkey_prosimian</th>\n",
       "      <td>15</td>\n",
       "      <td>15</td>\n",
       "    </tr>\n",
       "    <tr>\n",
       "      <th>antelope_duiker</th>\n",
       "      <td>15</td>\n",
       "      <td>15</td>\n",
       "    </tr>\n",
       "    <tr>\n",
       "      <th>civet_genet</th>\n",
       "      <td>14</td>\n",
       "      <td>14</td>\n",
       "    </tr>\n",
       "    <tr>\n",
       "      <th>leopard</th>\n",
       "      <td>13</td>\n",
       "      <td>13</td>\n",
       "    </tr>\n",
       "    <tr>\n",
       "      <th>blank</th>\n",
       "      <td>13</td>\n",
       "      <td>13</td>\n",
       "    </tr>\n",
       "    <tr>\n",
       "      <th>rodent</th>\n",
       "      <td>12</td>\n",
       "      <td>12</td>\n",
       "    </tr>\n",
       "    <tr>\n",
       "      <th>bird</th>\n",
       "      <td>9</td>\n",
       "      <td>9</td>\n",
       "    </tr>\n",
       "    <tr>\n",
       "      <th>hog</th>\n",
       "      <td>5</td>\n",
       "      <td>5</td>\n",
       "    </tr>\n",
       "  </tbody>\n",
       "</table>\n",
       "</div>"
      ],
      "text/plain": [
       "                  train  eval\n",
       "monkey_prosimian     15    15\n",
       "antelope_duiker      15    15\n",
       "civet_genet          14    14\n",
       "leopard              13    13\n",
       "blank                13    13\n",
       "rodent               12    12\n",
       "bird                  9     9\n",
       "hog                   5     5"
      ]
     },
     "execution_count": 7,
     "metadata": {},
     "output_type": "execute_result"
    }
   ],
   "source": [
    "split_pcts = pd.DataFrame(\n",
    "    {\n",
    "        \"train\": y_train.idxmax(axis=1).value_counts(normalize=True),\n",
    "        \"eval\": y_eval.idxmax(axis=1).value_counts(normalize=True),\n",
    "    }\n",
    ")\n",
    "print(\"Species percentages by split\")\n",
    "(split_pcts.fillna(0) * 100).astype(int)"
   ]
  },
  {
   "cell_type": "code",
   "execution_count": 8,
   "metadata": {
    "tags": []
   },
   "outputs": [],
   "source": [
    "import torch\n",
    "from torch.utils.data import Dataset\n",
    "from torchvision import transforms\n",
    "\n",
    "\n",
    "class ImagesDataset(Dataset):\n",
    "    \"\"\"Reads in an image, transforms pixel values, and serves\n",
    "    a dictionary containing the image id, image tensors, and label.\n",
    "    \"\"\"\n",
    "\n",
    "    def __init__(self, x_df, y_df=None, epoch = 0, eval = False):\n",
    "        self.data = x_df\n",
    "        self.label = y_df\n",
    "\n",
    "        if eval:\n",
    "\n",
    "            #no transformations but resize\n",
    "            self.transform = transforms.Compose(\n",
    "                [\n",
    "                    transforms.Resize((224, 224)),\n",
    "                    transforms.ToTensor(),\n",
    "                    transforms.Normalize(\n",
    "                        mean=(0.485, 0.456, 0.406), std=(0.229, 0.224, 0.225)\n",
    "                    ),  \n",
    "                ]\n",
    "            )\n",
    "\n",
    "        else:\n",
    "\n",
    "            if epoch == 1:\n",
    "                print(\"Using non-transformed images\")\n",
    "                self.transform = transforms.Compose(\n",
    "                [\n",
    "                transforms.Resize((224, 224)),\n",
    "                transforms.ToTensor(),\n",
    "                transforms.Normalize(\n",
    "                    mean=(0.485, 0.456, 0.406), std=(0.229, 0.224, 0.225)\n",
    "                    ),\n",
    "                ])\n",
    "\n",
    "            elif epoch == 2:\n",
    "                print(\"Using grayscale images\")\n",
    "                #greyscale images\n",
    "                self.transform = transforms.Compose(\n",
    "                [\n",
    "                transforms.Resize((224, 224)),\n",
    "                transforms.Grayscale(3),\n",
    "                transforms.ToTensor(),\n",
    "                transforms.Normalize(\n",
    "                    mean=(0.485, 0.456, 0.406), std=(0.229, 0.224, 0.225)\n",
    "                    ),\n",
    "                ]) \n",
    "            elif epoch == 3:\n",
    "                #horizontal flip\n",
    "                print(\"Using horizontally flipped images\")\n",
    "                self.transform = transforms.Compose(\n",
    "                [\n",
    "                transforms.Resize((224, 224)),\n",
    "                transforms.RandomHorizontalFlip(p=1),\n",
    "                transforms.ToTensor(),\n",
    "                transforms.Normalize(\n",
    "                    mean=(0.485, 0.456, 0.406), std=(0.229, 0.224, 0.225)\n",
    "                    ),\n",
    "                ])\n",
    "            elif epoch == 4:\n",
    "                #random tilt\n",
    "                print(\"Using random tilt images\")\n",
    "                self.transform = transforms.Compose(\n",
    "                [\n",
    "                transforms.Resize((224, 224)),\n",
    "                transforms.RandomRotation(10),\n",
    "                transforms.ToTensor(),\n",
    "                transforms.Normalize(\n",
    "                    mean=(0.485, 0.456, 0.406), std=(0.229, 0.224, 0.225)\n",
    "                    ),\n",
    "                ])\n",
    "            elif epoch == 5:\n",
    "                #random colour jitter.\n",
    "                print(\"Using colour jitter images\")\n",
    "                self.transform = transforms.Compose(\n",
    "                [\n",
    "                transforms.Resize((224, 224)),\n",
    "                transforms.ColorJitter(0.1,0.1,0.1,0.1),\n",
    "                transforms.ToTensor(),\n",
    "                transforms.Normalize(\n",
    "                    mean=(0.485, 0.456, 0.406), std=(0.229, 0.224, 0.225)\n",
    "                    ),\n",
    "                ])\n",
    "                #no transformations but resize\n",
    "            else:\n",
    "                print(\"Using random selection of transformations\")\n",
    "                self.transform = transforms.Compose(\n",
    "                [\n",
    "                transforms.Resize((224, 224)),\n",
    "                transforms.RandomApply([\n",
    "                    transforms.RandomHorizontalFlip(p=0.5),\n",
    "                    transforms.RandomRotation(10),\n",
    "                    ],0.3),\n",
    "                transforms.RandomApply([\n",
    "                    transforms.ColorJitter(0.1,0.1,0.1,0.1),\n",
    "                    transforms.Grayscale(3)\n",
    "                    ],0.5), \n",
    "                transforms.ToTensor(),\n",
    "                transforms.Normalize(\n",
    "                    mean=(0.485, 0.456, 0.406), std=(0.229, 0.224, 0.225)\n",
    "                    ),\n",
    "                ])\n",
    "        \n",
    "                \n",
    "\n",
    "    def __getitem__(self, index):\n",
    "        image = Image.open(self.data.iloc[index][\"filepath\"]).convert(\"RGB\")\n",
    "        image = self.transform(image)\n",
    "        image_id = self.data.index[index]\n",
    "        # if we don't have labels (e.g. for test set) just return the image and image id\n",
    "        if self.label is None:\n",
    "            sample = {\"image_id\": image_id, \"image\": image}\n",
    "        else:\n",
    "            label = torch.tensor(self.label.iloc[index].values, \n",
    "                                 dtype=torch.float)\n",
    "            sample = {\"image_id\": image_id, \"image\": image, \"label\": label}\n",
    "        return sample\n",
    "\n",
    "    def __len__(self):\n",
    "        return len(self.data)"
   ]
  },
  {
   "cell_type": "code",
   "execution_count": 9,
   "metadata": {},
   "outputs": [
    {
     "name": "stderr",
     "output_type": "stream",
     "text": [
      "c:\\Users\\Will Poulett\\AppData\\Local\\Programs\\Python\\Python311\\Lib\\site-packages\\torchvision\\models\\_utils.py:208: UserWarning: The parameter 'pretrained' is deprecated since 0.13 and may be removed in the future, please use 'weights' instead.\n",
      "  warnings.warn(\n",
      "c:\\Users\\Will Poulett\\AppData\\Local\\Programs\\Python\\Python311\\Lib\\site-packages\\torchvision\\models\\_utils.py:223: UserWarning: Arguments other than a weight enum or `None` for 'weights' are deprecated since 0.13 and may be removed in the future. The current behavior is equivalent to passing `weights=ResNet152_Weights.IMAGENET1K_V1`. You can also use `weights=ResNet152_Weights.DEFAULT` to get the most up-to-date weights.\n",
      "  warnings.warn(msg)\n"
     ]
    }
   ],
   "source": [
    "from torch import nn\n",
    "import torchvision.models as models\n",
    "\n",
    "model = models.resnet152(pretrained=True)\n",
    "\n",
    "model.fc = nn.Sequential(\n",
    "    nn.Linear(2048, 100),  # dense layer takes a 2048-dim input and outputs 100-dim\n",
    "    nn.ReLU(inplace=True),  # ReLU activation introduces non-linearity\n",
    "    nn.Dropout(0.1),  # common technique to mitigate overfitting\n",
    "    nn.Linear(\n",
    "        100, 8\n",
    "    ),  # final dense layer outputs 8-dim corresponding to our target classes\n",
    ")"
   ]
  },
  {
   "cell_type": "markdown",
   "metadata": {},
   "source": [
    "### Define our loss function\n",
    "Cross entropy loss (or log loss) is a commonly used loss function for multi-class (not multi-label) image classification. We'll use this to compute loss for each training batch and then update our parameters accordingly. "
   ]
  },
  {
   "cell_type": "code",
   "execution_count": 10,
   "metadata": {},
   "outputs": [],
   "source": [
    "#Define loss function\n",
    "\n",
    "import torch.optim as optim\n",
    "\n",
    "criterion = nn.CrossEntropyLoss()\n",
    "optimizer = optim.SGD(model.parameters(), lr=0.001, momentum=0.9)"
   ]
  },
  {
   "cell_type": "code",
   "execution_count": 11,
   "metadata": {},
   "outputs": [],
   "source": [
    "# Send model to GPU\n",
    "# Send the model to GPU\n",
    "model = model.to(DEVICE)"
   ]
  },
  {
   "cell_type": "code",
   "execution_count": 13,
   "metadata": {
    "tags": []
   },
   "outputs": [
    {
     "name": "stdout",
     "output_type": "stream",
     "text": [
      "Starting epoch 1\n",
      "Using non-transformed images\n"
     ]
    },
    {
     "name": "stderr",
     "output_type": "stream",
     "text": [
      "100%|██████████| 825/825 [04:59<00:00,  2.76it/s]\n"
     ]
    },
    {
     "name": "stdout",
     "output_type": "stream",
     "text": [
      "The loss: 0.1 (Not averaged)\n",
      "Starting epoch 2\n",
      "Using grayscale images\n"
     ]
    },
    {
     "name": "stderr",
     "output_type": "stream",
     "text": [
      "100%|██████████| 825/825 [05:16<00:00,  2.61it/s]\n"
     ]
    },
    {
     "name": "stdout",
     "output_type": "stream",
     "text": [
      "The loss: 0.26 (Not averaged)\n",
      "Starting epoch 3\n",
      "Using horizontally flipped images\n"
     ]
    },
    {
     "name": "stderr",
     "output_type": "stream",
     "text": [
      "100%|██████████| 825/825 [05:01<00:00,  2.73it/s]\n"
     ]
    },
    {
     "name": "stdout",
     "output_type": "stream",
     "text": [
      "The loss: 0.07 (Not averaged)\n",
      "Starting epoch 4\n",
      "Using random tilt images\n"
     ]
    },
    {
     "name": "stderr",
     "output_type": "stream",
     "text": [
      "100%|██████████| 825/825 [04:42<00:00,  2.92it/s]\n"
     ]
    },
    {
     "name": "stdout",
     "output_type": "stream",
     "text": [
      "The loss: 0.09 (Not averaged)\n",
      "Starting epoch 5\n",
      "Using colour jitter images\n"
     ]
    },
    {
     "name": "stderr",
     "output_type": "stream",
     "text": [
      "100%|██████████| 825/825 [05:06<00:00,  2.69it/s]\n"
     ]
    },
    {
     "name": "stdout",
     "output_type": "stream",
     "text": [
      "The loss: 0.01 (Not averaged)\n",
      "Starting epoch 6\n",
      "Using random selection of transformations\n"
     ]
    },
    {
     "name": "stderr",
     "output_type": "stream",
     "text": [
      "100%|██████████| 825/825 [05:11<00:00,  2.65it/s]"
     ]
    },
    {
     "name": "stdout",
     "output_type": "stream",
     "text": [
      "The loss: 0.02 (Not averaged)\n"
     ]
    },
    {
     "name": "stderr",
     "output_type": "stream",
     "text": [
      "\n"
     ]
    }
   ],
   "source": [
    "from torch.utils.data import DataLoader\n",
    "\n",
    "num_epochs = 6\n",
    "\n",
    "tracking_loss = {}\n",
    "\n",
    "for epoch in range(1, num_epochs + 1):\n",
    "    print(f\"Starting epoch {epoch}\")\n",
    "    \n",
    "    train_dataset = ImagesDataset(x_train, y_train, epoch)\n",
    "    train_dataloader = DataLoader(train_dataset, batch_size=16)\n",
    "\n",
    "    # iterate through the dataloader batches. tqdm keeps track of progress.\n",
    "    for batch_n, batch in tqdm(\n",
    "        enumerate(train_dataloader), total=len(train_dataloader)\n",
    "    ):\n",
    "        \n",
    "        # 1) zero out the parameter gradients so that gradients from previous batches are not used in this step\n",
    "        optimizer.zero_grad()\n",
    "\n",
    "        # 2) run the forward step on this batch of images\n",
    "        outputs = model(batch[\"image\"].to(DEVICE))\n",
    "\n",
    "        # 3) compute the loss\n",
    "        loss = criterion(outputs, batch[\"label\"].to(DEVICE))\n",
    "\n",
    "        # let's keep track of the loss by epoch and batch\n",
    "        tracking_loss[(epoch, batch_n)] = float(loss)\n",
    "\n",
    "        # 4) compute our gradients\n",
    "        loss.backward()\n",
    "        # update our weights\n",
    "        optimizer.step()\n",
    "\n",
    "    print(f\"The loss: {round(float(loss),2)} (Not averaged)\")"
   ]
  },
  {
   "cell_type": "markdown",
   "metadata": {},
   "source": [
    "Now let's plot the loss by epoch and batch. The x-axis here is a tuple of `(epoch, batch)`."
   ]
  },
  {
   "cell_type": "code",
   "execution_count": null,
   "metadata": {},
   "outputs": [
    {
     "data": {
      "text/plain": [
       "<matplotlib.legend.Legend at 0x1c821948a50>"
      ]
     },
     "execution_count": 14,
     "metadata": {},
     "output_type": "execute_result"
    },
    {
     "data": {
      "image/png": "[encoded data removed]",
      "text/plain": [
       "<Figure size 1000x500 with 1 Axes>"
      ]
     },
     "metadata": {},
     "output_type": "display_data"
    }
   ],
   "source": [
    "tracking_loss = pd.Series(tracking_loss)\n",
    "\n",
    "plt.figure(figsize=(10, 5))\n",
    "tracking_loss.plot(alpha=0.2, label=\"loss\")\n",
    "tracking_loss.rolling(center=True, min_periods=1, window=10).mean().plot(\n",
    "    label=\"loss (moving avg)\"\n",
    ")\n",
    "plt.xlabel(\"(Epoch, Batch)\")\n",
    "plt.ylabel(\"Loss\")\n",
    "plt.legend(loc=0)"
   ]
  },
  {
   "cell_type": "markdown",
   "metadata": {},
   "source": [
    "Good news, the loss is going down! This is an encouraging start, especially since we haven't done anything fancy yet."
   ]
  },
  {
   "cell_type": "markdown",
   "metadata": {},
   "source": [
    "### Save the model\n",
    "We have the model loaded in memory already, so we don't really need to save the model, but it's often useful to do this so we can use it again later. \n",
    "\n",
    "Here's how:"
   ]
  },
  {
   "cell_type": "code",
   "execution_count": 14,
   "metadata": {},
   "outputs": [],
   "source": [
    "torch.save(model, \"model.pth\")"
   ]
  },
  {
   "cell_type": "markdown",
   "metadata": {},
   "source": [
    "## 7. Evaluation\n",
    "So far, not so bad. We've shown an improvement in the loss on the training set, but that tells us little about how our model will do on new data. Let's reload our saved model and try generating some predictions on the evaluation split we created earlier."
   ]
  },
  {
   "cell_type": "code",
   "execution_count": 15,
   "metadata": {},
   "outputs": [],
   "source": [
    "loaded_model = torch.load(\"model.pth\")"
   ]
  },
  {
   "cell_type": "markdown",
   "metadata": {},
   "source": [
    "We create the eval dataset and dataloader just like we did earlier with the training dataset and dataloader:"
   ]
  },
  {
   "cell_type": "code",
   "execution_count": 16,
   "metadata": {},
   "outputs": [],
   "source": [
    "eval_dataset = ImagesDataset(x_eval, y_eval, eval = True)\n",
    "eval_dataloader = DataLoader(eval_dataset, batch_size=32)"
   ]
  },
  {
   "cell_type": "markdown",
   "metadata": {},
   "source": [
    "### Make predictions\n",
    "We'll iterate through the eval dataloader in batches, just like we did for training, but this time we aren't going to need to compute gradients or update weights. For each batch, we'll do the following:\n",
    "1. Run the forward pass to get the model output or logits\n",
    "2. Apply a softmax function to convert the logits into probability space with range[0,1]. During training, the softmax operation was handled internally by `nn.CrossEntropyLoss`. We aren't computing the loss now because we are just doing evaluation, but we still want the predictions to be in the range[0,1]. \n",
    "3. Store the results in a dataframe for further analysis"
   ]
  },
  {
   "cell_type": "code",
   "execution_count": 17,
   "metadata": {
    "tags": []
   },
   "outputs": [
    {
     "name": "stderr",
     "output_type": "stream",
     "text": [
      "100%|██████████| 104/104 [00:33<00:00,  3.10it/s]\n"
     ]
    },
    {
     "data": {
      "text/html": [
       "<div>\n",
       "<style scoped>\n",
       "    .dataframe tbody tr th:only-of-type {\n",
       "        vertical-align: middle;\n",
       "    }\n",
       "\n",
       "    .dataframe tbody tr th {\n",
       "        vertical-align: top;\n",
       "    }\n",
       "\n",
       "    .dataframe thead th {\n",
       "        text-align: right;\n",
       "    }\n",
       "</style>\n",
       "<table border=\"1\" class=\"dataframe\">\n",
       "  <thead>\n",
       "    <tr style=\"text-align: right;\">\n",
       "      <th></th>\n",
       "      <th>antelope_duiker</th>\n",
       "      <th>bird</th>\n",
       "      <th>blank</th>\n",
       "      <th>civet_genet</th>\n",
       "      <th>hog</th>\n",
       "      <th>leopard</th>\n",
       "      <th>monkey_prosimian</th>\n",
       "      <th>rodent</th>\n",
       "    </tr>\n",
       "  </thead>\n",
       "  <tbody>\n",
       "    <tr>\n",
       "      <th>ZJ000247</th>\n",
       "      <td>9.955611e-01</td>\n",
       "      <td>1.626434e-06</td>\n",
       "      <td>3.273522e-03</td>\n",
       "      <td>1.502737e-05</td>\n",
       "      <td>2.098867e-06</td>\n",
       "      <td>8.706003e-06</td>\n",
       "      <td>3.570638e-04</td>\n",
       "      <td>7.808810e-04</td>\n",
       "    </tr>\n",
       "    <tr>\n",
       "      <th>ZJ004888</th>\n",
       "      <td>3.997187e-01</td>\n",
       "      <td>3.678425e-05</td>\n",
       "      <td>3.833715e-03</td>\n",
       "      <td>2.382120e-07</td>\n",
       "      <td>5.706068e-06</td>\n",
       "      <td>6.040437e-07</td>\n",
       "      <td>5.963794e-01</td>\n",
       "      <td>2.469067e-05</td>\n",
       "    </tr>\n",
       "    <tr>\n",
       "      <th>ZJ015830</th>\n",
       "      <td>9.767314e-01</td>\n",
       "      <td>1.019323e-05</td>\n",
       "      <td>2.320341e-02</td>\n",
       "      <td>2.836654e-06</td>\n",
       "      <td>1.806077e-05</td>\n",
       "      <td>1.160724e-06</td>\n",
       "      <td>2.660667e-05</td>\n",
       "      <td>6.264988e-06</td>\n",
       "    </tr>\n",
       "    <tr>\n",
       "      <th>ZJ007608</th>\n",
       "      <td>9.678891e-05</td>\n",
       "      <td>8.537882e-06</td>\n",
       "      <td>1.780932e-04</td>\n",
       "      <td>9.976738e-01</td>\n",
       "      <td>6.934073e-07</td>\n",
       "      <td>4.084733e-07</td>\n",
       "      <td>3.041617e-06</td>\n",
       "      <td>2.038614e-03</td>\n",
       "    </tr>\n",
       "    <tr>\n",
       "      <th>ZJ000896</th>\n",
       "      <td>2.899115e-03</td>\n",
       "      <td>9.969735e-01</td>\n",
       "      <td>8.742455e-05</td>\n",
       "      <td>2.041432e-07</td>\n",
       "      <td>2.762521e-07</td>\n",
       "      <td>1.017355e-06</td>\n",
       "      <td>3.568068e-05</td>\n",
       "      <td>2.643709e-06</td>\n",
       "    </tr>\n",
       "    <tr>\n",
       "      <th>...</th>\n",
       "      <td>...</td>\n",
       "      <td>...</td>\n",
       "      <td>...</td>\n",
       "      <td>...</td>\n",
       "      <td>...</td>\n",
       "      <td>...</td>\n",
       "      <td>...</td>\n",
       "      <td>...</td>\n",
       "    </tr>\n",
       "    <tr>\n",
       "      <th>ZJ008468</th>\n",
       "      <td>2.990738e-06</td>\n",
       "      <td>2.015093e-09</td>\n",
       "      <td>1.835597e-06</td>\n",
       "      <td>9.999596e-01</td>\n",
       "      <td>1.636747e-09</td>\n",
       "      <td>5.764868e-09</td>\n",
       "      <td>3.867419e-09</td>\n",
       "      <td>3.556435e-05</td>\n",
       "    </tr>\n",
       "    <tr>\n",
       "      <th>ZJ001643</th>\n",
       "      <td>1.695613e-05</td>\n",
       "      <td>4.366394e-07</td>\n",
       "      <td>5.930808e-05</td>\n",
       "      <td>9.997972e-01</td>\n",
       "      <td>2.446216e-07</td>\n",
       "      <td>9.127601e-08</td>\n",
       "      <td>2.191137e-07</td>\n",
       "      <td>1.256422e-04</td>\n",
       "    </tr>\n",
       "    <tr>\n",
       "      <th>ZJ001616</th>\n",
       "      <td>4.359842e-04</td>\n",
       "      <td>2.476714e-06</td>\n",
       "      <td>6.338069e-03</td>\n",
       "      <td>1.411309e-04</td>\n",
       "      <td>2.430708e-06</td>\n",
       "      <td>1.190196e-05</td>\n",
       "      <td>1.040633e-05</td>\n",
       "      <td>9.930576e-01</td>\n",
       "    </tr>\n",
       "    <tr>\n",
       "      <th>ZJ012041</th>\n",
       "      <td>9.509529e-04</td>\n",
       "      <td>4.890339e-05</td>\n",
       "      <td>2.873867e-05</td>\n",
       "      <td>3.800834e-07</td>\n",
       "      <td>6.565740e-06</td>\n",
       "      <td>2.466923e-05</td>\n",
       "      <td>9.989343e-01</td>\n",
       "      <td>5.427950e-06</td>\n",
       "    </tr>\n",
       "    <tr>\n",
       "      <th>ZJ007776</th>\n",
       "      <td>8.686172e-07</td>\n",
       "      <td>8.541871e-09</td>\n",
       "      <td>6.491239e-07</td>\n",
       "      <td>9.999975e-01</td>\n",
       "      <td>5.576172e-09</td>\n",
       "      <td>3.578412e-07</td>\n",
       "      <td>2.621782e-09</td>\n",
       "      <td>5.665509e-07</td>\n",
       "    </tr>\n",
       "  </tbody>\n",
       "</table>\n",
       "<p>3298 rows × 8 columns</p>\n",
       "</div>"
      ],
      "text/plain": [
       "          antelope_duiker          bird         blank   civet_genet  \\\n",
       "ZJ000247     9.955611e-01  1.626434e-06  3.273522e-03  1.502737e-05   \n",
       "ZJ004888     3.997187e-01  3.678425e-05  3.833715e-03  2.382120e-07   \n",
       "ZJ015830     9.767314e-01  1.019323e-05  2.320341e-02  2.836654e-06   \n",
       "ZJ007608     9.678891e-05  8.537882e-06  1.780932e-04  9.976738e-01   \n",
       "ZJ000896     2.899115e-03  9.969735e-01  8.742455e-05  2.041432e-07   \n",
       "...                   ...           ...           ...           ...   \n",
       "ZJ008468     2.990738e-06  2.015093e-09  1.835597e-06  9.999596e-01   \n",
       "ZJ001643     1.695613e-05  4.366394e-07  5.930808e-05  9.997972e-01   \n",
       "ZJ001616     4.359842e-04  2.476714e-06  6.338069e-03  1.411309e-04   \n",
       "ZJ012041     9.509529e-04  4.890339e-05  2.873867e-05  3.800834e-07   \n",
       "ZJ007776     8.686172e-07  8.541871e-09  6.491239e-07  9.999975e-01   \n",
       "\n",
       "                   hog       leopard  monkey_prosimian        rodent  \n",
       "ZJ000247  2.098867e-06  8.706003e-06      3.570638e-04  7.808810e-04  \n",
       "ZJ004888  5.706068e-06  6.040437e-07      5.963794e-01  2.469067e-05  \n",
       "ZJ015830  1.806077e-05  1.160724e-06      2.660667e-05  6.264988e-06  \n",
       "ZJ007608  6.934073e-07  4.084733e-07      3.041617e-06  2.038614e-03  \n",
       "ZJ000896  2.762521e-07  1.017355e-06      3.568068e-05  2.643709e-06  \n",
       "...                ...           ...               ...           ...  \n",
       "ZJ008468  1.636747e-09  5.764868e-09      3.867419e-09  3.556435e-05  \n",
       "ZJ001643  2.446216e-07  9.127601e-08      2.191137e-07  1.256422e-04  \n",
       "ZJ001616  2.430708e-06  1.190196e-05      1.040633e-05  9.930576e-01  \n",
       "ZJ012041  6.565740e-06  2.466923e-05      9.989343e-01  5.427950e-06  \n",
       "ZJ007776  5.576172e-09  3.578412e-07      2.621782e-09  5.665509e-07  \n",
       "\n",
       "[3298 rows x 8 columns]"
      ]
     },
     "execution_count": 17,
     "metadata": {},
     "output_type": "execute_result"
    }
   ],
   "source": [
    "preds_collector = []\n",
    "\n",
    "# put the model in eval mode so we don't update any parameters\n",
    "model.eval()\n",
    "\n",
    "# we aren't updating our weights so no need to calculate gradients\n",
    "with torch.no_grad():\n",
    "    for batch in tqdm(eval_dataloader, total=len(eval_dataloader)):\n",
    "        # 1) run the forward step\n",
    "        logits = model.forward(batch[\"image\"].to(DEVICE))\n",
    "        # 2) apply softmax so that model outputs are in range [0,1]\n",
    "        preds = nn.functional.softmax(logits, dim=1).to(DEVICE)\n",
    "        # 3) store this batch's predictions in df\n",
    "        # note that PyTorch Tensors need to first be detached from their computational graph before converting to numpy arrays\n",
    "        preds_df = pd.DataFrame(\n",
    "            preds.cpu().detach().numpy(),\n",
    "            index=batch[\"image_id\"],\n",
    "            columns=species_labels,\n",
    "        )\n",
    "        preds_collector.append(preds_df)\n",
    "\n",
    "eval_preds_df = pd.concat(preds_collector)\n",
    "eval_preds_df"
   ]
  },
  {
   "cell_type": "markdown",
   "metadata": {
    "tags": []
   },
   "source": [
    "### Predicted labels distribution\n",
    "First let's review the species distribution we saw in the training set."
   ]
  },
  {
   "cell_type": "code",
   "execution_count": 18,
   "metadata": {},
   "outputs": [
    {
     "name": "stdout",
     "output_type": "stream",
     "text": [
      "True labels (training):\n"
     ]
    },
    {
     "data": {
      "text/plain": [
       "monkey_prosimian    1994\n",
       "antelope_duiker     1979\n",
       "civet_genet         1938\n",
       "leopard             1803\n",
       "blank               1770\n",
       "rodent              1610\n",
       "bird                1313\n",
       "hog                  783\n",
       "dtype: int64"
      ]
     },
     "execution_count": 18,
     "metadata": {},
     "output_type": "execute_result"
    }
   ],
   "source": [
    "print(\"True labels (training):\")\n",
    "y_train.idxmax(axis=1).value_counts()"
   ]
  },
  {
   "cell_type": "markdown",
   "metadata": {},
   "source": [
    "Here's the distribution of our predictions on the eval set. "
   ]
  },
  {
   "cell_type": "code",
   "execution_count": 19,
   "metadata": {},
   "outputs": [
    {
     "name": "stdout",
     "output_type": "stream",
     "text": [
      "Predicted labels (eval):\n"
     ]
    },
    {
     "data": {
      "text/plain": [
       "monkey_prosimian    524\n",
       "civet_genet         500\n",
       "antelope_duiker     453\n",
       "leopard             435\n",
       "rodent              433\n",
       "blank               429\n",
       "bird                322\n",
       "hog                 202\n",
       "dtype: int64"
      ]
     },
     "execution_count": 19,
     "metadata": {},
     "output_type": "execute_result"
    }
   ],
   "source": [
    "print(\"Predicted labels (eval):\")\n",
    "eval_preds_df.idxmax(axis=1).value_counts()"
   ]
  },
  {
   "cell_type": "markdown",
   "metadata": {},
   "source": [
    "The actual evaluation set is more evenly distributed than our predictions, so we already know there is some room for improvement here."
   ]
  },
  {
   "cell_type": "code",
   "execution_count": 20,
   "metadata": {},
   "outputs": [
    {
     "name": "stdout",
     "output_type": "stream",
     "text": [
      "True labels (eval):\n"
     ]
    },
    {
     "data": {
      "text/plain": [
       "monkey_prosimian    498\n",
       "antelope_duiker     495\n",
       "civet_genet         485\n",
       "leopard             451\n",
       "blank               443\n",
       "rodent              403\n",
       "bird                328\n",
       "hog                 195\n",
       "dtype: int64"
      ]
     },
     "execution_count": 20,
     "metadata": {},
     "output_type": "execute_result"
    }
   ],
   "source": [
    "print(\"True labels (eval):\")\n",
    "y_eval.idxmax(axis=1).value_counts()"
   ]
  },
  {
   "cell_type": "markdown",
   "metadata": {},
   "source": [
    "### Accuracy\n",
    "Now let's compute how accurate our model is and compare that against some trivial baseline models. First let's get the labels with the highest score for each image."
   ]
  },
  {
   "cell_type": "code",
   "execution_count": 21,
   "metadata": {},
   "outputs": [
    {
     "data": {
      "text/plain": [
       "ZJ000247     antelope_duiker\n",
       "ZJ004888    monkey_prosimian\n",
       "ZJ015830     antelope_duiker\n",
       "ZJ007608         civet_genet\n",
       "ZJ000896                bird\n",
       "dtype: object"
      ]
     },
     "execution_count": 21,
     "metadata": {},
     "output_type": "execute_result"
    }
   ],
   "source": [
    "eval_predictions = eval_preds_df.idxmax(axis=1)\n",
    "eval_predictions.head()"
   ]
  },
  {
   "cell_type": "code",
   "execution_count": 22,
   "metadata": {},
   "outputs": [
    {
     "data": {
      "text/plain": [
       "0.15100060642813826"
      ]
     },
     "execution_count": 22,
     "metadata": {},
     "output_type": "execute_result"
    }
   ],
   "source": [
    "eval_true = y_eval.idxmax(axis=1)\n",
    "\n",
    "(eval_true == \"monkey_prosimian\").sum() / len(eval_predictions)"
   ]
  },
  {
   "cell_type": "code",
   "execution_count": 23,
   "metadata": {},
   "outputs": [
    {
     "data": {
      "text/plain": [
       "0.8850818677986658"
      ]
     },
     "execution_count": 23,
     "metadata": {},
     "output_type": "execute_result"
    }
   ],
   "source": [
    "correct = (eval_predictions == eval_true).sum()\n",
    "accuracy = correct / len(eval_predictions)\n",
    "accuracy"
   ]
  },
  {
   "cell_type": "code",
   "execution_count": null,
   "metadata": {},
   "outputs": [
    {
     "data": {
      "image/png": "[encoded data removed]",
      "text/plain": [
       "<Figure size 1000x1000 with 2 Axes>"
      ]
     },
     "metadata": {},
     "output_type": "display_data"
    }
   ],
   "source": [
    "from sklearn.metrics import ConfusionMatrixDisplay\n",
    "\n",
    "fig, ax = plt.subplots(figsize=(10, 10))\n",
    "cm = ConfusionMatrixDisplay.from_predictions(\n",
    "    y_eval.idxmax(axis=1),\n",
    "    eval_preds_df.idxmax(axis=1),\n",
    "    ax=ax,\n",
    "    xticks_rotation=90,\n",
    "    colorbar=True,\n",
    ")"
   ]
  },
  {
   "cell_type": "markdown",
   "metadata": {},
   "source": [
    "That's where you come in! What can you do to improve on this benchmark?\n",
    "\n",
    "Here are some ideas you might want to try:\n",
    "* Train on the full training dataset. We've only used 50% of the training data so far.\n",
    "* Train for more epochs. We've only done 1 so far.\n",
    "* Try another pretrained model. For example, you may have more success with EfficientNet, or another ResNet model with more layers like ResNet152. See what's available from pytorch [here](https://pytorch.org/vision/stable/models.html). You may also want to review which models are or have been state of the art for image classification tasks, for example on [paperswithcode.com](https://paperswithcode.com/task/image-classification). Keep in mind that different models will require different input and output dimensions, so you'll need to update how you construct `model` above.\n",
    "* Experiment with different loss functions.\n",
    "* Experiment with different learning rates or learning rate schedulers.\n",
    "* Add more layers to the model head (`model.fc`).\n",
    "* You also may want to consider freezing the weights in the backbone model and only training the head (`model.fc`). If this results in higher accuracy, that suggests the current approach may be overwriting the backbone weights in a problematic way. One approach here would be to train just the model head, and then unfreeze the backbone but train at a lower learning rate.\n",
    "* Training will be much faster using GPUs, but you will need to make some small tweaks to the code.\n",
    "* As you become more comfortable iterating through different versions of the model, you may want to try out [PyTorch Lightning](https://www.pytorchlightning.ai/) or [Lightning Flash](https://lightning-flash.readthedocs.io/en/latest/quickstart.html), which build upon PyTorch and eliminate a lot of boilerplate code, in addition to providing a more complete research framework for deep learning problems."
   ]
  },
  {
   "cell_type": "markdown",
   "metadata": {},
   "source": [
    "## 8. Create submission"
   ]
  },
  {
   "cell_type": "markdown",
   "metadata": {},
   "source": [
    "Last but not least, we'll want to participate in the competition and see where we stand on the leaderboard.\n",
    "\n",
    "To do this we need to create predictions for the **competition test set** (not the eval set we used above). You don't have labels for these.\n",
    "\n",
    "We'll create predictions in the same way we did for the `eval` set, but this time using the `test_features` we downloaded from the [competition website](https://www.drivendata.org/competitions/87/competition-image-classification-wildlife-conservation/data/)."
   ]
  },
  {
   "cell_type": "code",
   "execution_count": null,
   "metadata": {},
   "outputs": [
    {
     "name": "stdout",
     "output_type": "stream",
     "text": [
      "Using random selection of transformations\n"
     ]
    }
   ],
   "source": [
    "test_dataset = ImagesDataset(test_features.filepath.to_frame())\n",
    "test_dataloader = DataLoader(test_dataset, batch_size=32)"
   ]
  },
  {
   "cell_type": "code",
   "execution_count": null,
   "metadata": {},
   "outputs": [
    {
     "name": "stderr",
     "output_type": "stream",
     "text": [
      "100%|██████████| 140/140 [04:26<00:00,  1.90s/it]\n"
     ]
    },
    {
     "data": {
      "text/html": [
       "<div>\n",
       "<style scoped>\n",
       "    .dataframe tbody tr th:only-of-type {\n",
       "        vertical-align: middle;\n",
       "    }\n",
       "\n",
       "    .dataframe tbody tr th {\n",
       "        vertical-align: top;\n",
       "    }\n",
       "\n",
       "    .dataframe thead th {\n",
       "        text-align: right;\n",
       "    }\n",
       "</style>\n",
       "<table border=\"1\" class=\"dataframe\">\n",
       "  <thead>\n",
       "    <tr style=\"text-align: right;\">\n",
       "      <th></th>\n",
       "      <th>antelope_duiker</th>\n",
       "      <th>bird</th>\n",
       "      <th>blank</th>\n",
       "      <th>civet_genet</th>\n",
       "      <th>hog</th>\n",
       "      <th>leopard</th>\n",
       "      <th>monkey_prosimian</th>\n",
       "      <th>rodent</th>\n",
       "    </tr>\n",
       "  </thead>\n",
       "  <tbody>\n",
       "    <tr>\n",
       "      <th>ZJ016488</th>\n",
       "      <td>4.689459e-03</td>\n",
       "      <td>4.139056e-04</td>\n",
       "      <td>0.295340</td>\n",
       "      <td>6.713203e-01</td>\n",
       "      <td>0.000911</td>\n",
       "      <td>0.024797</td>\n",
       "      <td>1.382537e-04</td>\n",
       "      <td>2.390027e-03</td>\n",
       "    </tr>\n",
       "    <tr>\n",
       "      <th>ZJ016489</th>\n",
       "      <td>9.988922e-01</td>\n",
       "      <td>4.106345e-04</td>\n",
       "      <td>0.000259</td>\n",
       "      <td>5.908393e-05</td>\n",
       "      <td>0.000173</td>\n",
       "      <td>0.000005</td>\n",
       "      <td>1.532560e-04</td>\n",
       "      <td>4.795773e-05</td>\n",
       "    </tr>\n",
       "    <tr>\n",
       "      <th>ZJ016490</th>\n",
       "      <td>8.740865e-03</td>\n",
       "      <td>3.768716e-04</td>\n",
       "      <td>0.000168</td>\n",
       "      <td>9.370517e-01</td>\n",
       "      <td>0.051272</td>\n",
       "      <td>0.001954</td>\n",
       "      <td>2.050404e-05</td>\n",
       "      <td>4.166304e-04</td>\n",
       "    </tr>\n",
       "    <tr>\n",
       "      <th>ZJ016491</th>\n",
       "      <td>1.968648e-09</td>\n",
       "      <td>3.855706e-09</td>\n",
       "      <td>0.000003</td>\n",
       "      <td>1.150918e-07</td>\n",
       "      <td>0.000002</td>\n",
       "      <td>0.999995</td>\n",
       "      <td>1.250870e-08</td>\n",
       "      <td>1.072670e-09</td>\n",
       "    </tr>\n",
       "    <tr>\n",
       "      <th>ZJ016492</th>\n",
       "      <td>2.410257e-01</td>\n",
       "      <td>2.627928e-03</td>\n",
       "      <td>0.021348</td>\n",
       "      <td>4.579728e-04</td>\n",
       "      <td>0.000006</td>\n",
       "      <td>0.000004</td>\n",
       "      <td>7.322727e-01</td>\n",
       "      <td>2.258029e-03</td>\n",
       "    </tr>\n",
       "    <tr>\n",
       "      <th>...</th>\n",
       "      <td>...</td>\n",
       "      <td>...</td>\n",
       "      <td>...</td>\n",
       "      <td>...</td>\n",
       "      <td>...</td>\n",
       "      <td>...</td>\n",
       "      <td>...</td>\n",
       "      <td>...</td>\n",
       "    </tr>\n",
       "    <tr>\n",
       "      <th>ZJ020947</th>\n",
       "      <td>1.051927e-01</td>\n",
       "      <td>6.655234e-03</td>\n",
       "      <td>0.263979</td>\n",
       "      <td>3.363058e-05</td>\n",
       "      <td>0.000032</td>\n",
       "      <td>0.000033</td>\n",
       "      <td>6.225529e-01</td>\n",
       "      <td>1.522219e-03</td>\n",
       "    </tr>\n",
       "    <tr>\n",
       "      <th>ZJ020948</th>\n",
       "      <td>3.515674e-02</td>\n",
       "      <td>5.330890e-04</td>\n",
       "      <td>0.405529</td>\n",
       "      <td>1.341054e-04</td>\n",
       "      <td>0.000028</td>\n",
       "      <td>0.004314</td>\n",
       "      <td>5.535190e-01</td>\n",
       "      <td>7.856373e-04</td>\n",
       "    </tr>\n",
       "    <tr>\n",
       "      <th>ZJ020949</th>\n",
       "      <td>7.845175e-01</td>\n",
       "      <td>1.544669e-05</td>\n",
       "      <td>0.129611</td>\n",
       "      <td>5.153665e-02</td>\n",
       "      <td>0.013830</td>\n",
       "      <td>0.000043</td>\n",
       "      <td>5.269319e-06</td>\n",
       "      <td>2.044043e-02</td>\n",
       "    </tr>\n",
       "    <tr>\n",
       "      <th>ZJ020950</th>\n",
       "      <td>7.059443e-01</td>\n",
       "      <td>1.281429e-02</td>\n",
       "      <td>0.190982</td>\n",
       "      <td>7.232095e-04</td>\n",
       "      <td>0.015585</td>\n",
       "      <td>0.036596</td>\n",
       "      <td>3.108455e-02</td>\n",
       "      <td>6.270304e-03</td>\n",
       "    </tr>\n",
       "    <tr>\n",
       "      <th>ZJ020951</th>\n",
       "      <td>5.356735e-07</td>\n",
       "      <td>1.253806e-06</td>\n",
       "      <td>0.000143</td>\n",
       "      <td>2.120183e-07</td>\n",
       "      <td>0.000007</td>\n",
       "      <td>0.999845</td>\n",
       "      <td>3.809371e-06</td>\n",
       "      <td>3.977562e-07</td>\n",
       "    </tr>\n",
       "  </tbody>\n",
       "</table>\n",
       "<p>4464 rows × 8 columns</p>\n",
       "</div>"
      ],
      "text/plain": [
       "          antelope_duiker          bird     blank   civet_genet       hog  \\\n",
       "ZJ016488     4.689459e-03  4.139056e-04  0.295340  6.713203e-01  0.000911   \n",
       "ZJ016489     9.988922e-01  4.106345e-04  0.000259  5.908393e-05  0.000173   \n",
       "ZJ016490     8.740865e-03  3.768716e-04  0.000168  9.370517e-01  0.051272   \n",
       "ZJ016491     1.968648e-09  3.855706e-09  0.000003  1.150918e-07  0.000002   \n",
       "ZJ016492     2.410257e-01  2.627928e-03  0.021348  4.579728e-04  0.000006   \n",
       "...                   ...           ...       ...           ...       ...   \n",
       "ZJ020947     1.051927e-01  6.655234e-03  0.263979  3.363058e-05  0.000032   \n",
       "ZJ020948     3.515674e-02  5.330890e-04  0.405529  1.341054e-04  0.000028   \n",
       "ZJ020949     7.845175e-01  1.544669e-05  0.129611  5.153665e-02  0.013830   \n",
       "ZJ020950     7.059443e-01  1.281429e-02  0.190982  7.232095e-04  0.015585   \n",
       "ZJ020951     5.356735e-07  1.253806e-06  0.000143  2.120183e-07  0.000007   \n",
       "\n",
       "           leopard  monkey_prosimian        rodent  \n",
       "ZJ016488  0.024797      1.382537e-04  2.390027e-03  \n",
       "ZJ016489  0.000005      1.532560e-04  4.795773e-05  \n",
       "ZJ016490  0.001954      2.050404e-05  4.166304e-04  \n",
       "ZJ016491  0.999995      1.250870e-08  1.072670e-09  \n",
       "ZJ016492  0.000004      7.322727e-01  2.258029e-03  \n",
       "...            ...               ...           ...  \n",
       "ZJ020947  0.000033      6.225529e-01  1.522219e-03  \n",
       "ZJ020948  0.004314      5.535190e-01  7.856373e-04  \n",
       "ZJ020949  0.000043      5.269319e-06  2.044043e-02  \n",
       "ZJ020950  0.036596      3.108455e-02  6.270304e-03  \n",
       "ZJ020951  0.999845      3.809371e-06  3.977562e-07  \n",
       "\n",
       "[4464 rows x 8 columns]"
      ]
     },
     "execution_count": 30,
     "metadata": {},
     "output_type": "execute_result"
    }
   ],
   "source": [
    "preds_collector = []\n",
    "\n",
    "# put the model in eval mode so we don't update any parameters\n",
    "model.eval().to(\"cpu\")\n",
    "\n",
    "# we aren't updating our weights so no need to calculate gradients\n",
    "with torch.no_grad():\n",
    "    for batch in tqdm(test_dataloader, total=len(test_dataloader)):\n",
    "        # run the forward step\n",
    "        logits = model.forward(batch[\"image\"])\n",
    "        # apply softmax so that model outputs are in range [0,1]\n",
    "        preds = nn.functional.softmax(logits, dim=1)\n",
    "        # store this batch's predictions in df\n",
    "        # note that PyTorch Tensors need to first be detached from their computational graph before converting to numpy arrays\n",
    "        preds_df = pd.DataFrame(\n",
    "            preds.detach().numpy(),\n",
    "            index=batch[\"image_id\"],\n",
    "            columns=species_labels,\n",
    "        )\n",
    "        preds_collector.append(preds_df)\n",
    "\n",
    "submission_df = pd.concat(preds_collector)\n",
    "submission_df"
   ]
  },
  {
   "cell_type": "markdown",
   "metadata": {},
   "source": [
    "Let's check a couple things on `submission_df` before submitting to the platform. We'll want to make sure our submission's index and column labels match the submission format. (The DrivenData platform will do these data integrity checks as well, but it will be quicker to detect problems this way.)"
   ]
  },
  {
   "cell_type": "code",
   "execution_count": null,
   "metadata": {},
   "outputs": [],
   "source": [
    "submission_format = pd.read_csv(\"submission_format.csv\", index_col=\"id\")\n",
    "\n",
    "assert all(submission_df.index == submission_format.index)\n",
    "assert all(submission_df.columns == submission_format.columns)"
   ]
  },
  {
   "cell_type": "markdown",
   "metadata": {},
   "source": [
    "Looks like we're ready to submit! Save the dataframe out to a CSV file and then upload it via the [Submissions page](https://www.drivendata.org/competitions/87/competition-image-classification-wildlife-conservation/submissions/) on the competition website."
   ]
  },
  {
   "cell_type": "code",
   "execution_count": null,
   "metadata": {},
   "outputs": [],
   "source": [
    "submission_df.to_csv(\"submission_df.csv\")"
   ]
  },
  {
   "cell_type": "markdown",
   "metadata": {},
   "source": [
    "How did we do? We should get a score of ~1.8, though your results may differ slightly due to non-determinism in model training. (For reference, a randomly generated submission yields a score of something like ~2.4.)\n",
    "\n",
    "![benchmark submission](https://drivendata-public-assets.s3.amazonaws.com/conservision-benchmark-score.jpg)\n",
    "\n",
    "Now it is up to you to improve on this benchmark!\n",
    "\n",
    "Head over to the [competition](https://www.drivendata.org/competitions/87/competition-image-classification-wildlife-conservation/) for data and more background info, or the [competition forum](https://community.drivendata.org/c/conser-vision/87) if you have any questions. Good luck!"
   ]
  }
 ],
 "metadata": {
  "anaconda-cloud": {},
  "kernelspec": {
   "display_name": "Python 3 (ipykernel)",
   "language": "python",
   "name": "python3"
  },
  "language_info": {
   "codemirror_mode": {
    "name": "ipython",
    "version": 3
   },
   "file_extension": ".py",
   "mimetype": "text/x-python",
   "name": "python",
   "nbconvert_exporter": "python",
   "pygments_lexer": "ipython3",
   "version": "3.11.3"
  }
 },
 "nbformat": 4,
 "nbformat_minor": 4
}

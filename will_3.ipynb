{
 "cells": [
  {
   "cell_type": "markdown",
   "metadata": {
    "tags": []
   },
   "source": [
    "# Introduction to image classification using camera trap images"
   ]
  },
  {
   "cell_type": "markdown",
   "metadata": {},
   "source": [
    "Next, let's import some of the usual suspects:"
   ]
  },
  {
   "cell_type": "code",
   "execution_count": 1,
   "metadata": {},
   "outputs": [],
   "source": [
    "%matplotlib inline\n",
    "\n",
    "import matplotlib.pyplot as plt\n",
    "import pandas as pd\n",
    "from PIL import Image\n",
    "from tqdm import tqdm\n",
    "import torch"
   ]
  },
  {
   "cell_type": "code",
   "execution_count": 2,
   "metadata": {},
   "outputs": [],
   "source": [
    "# Use CUDA\n",
    "DEVICE = torch.device(\"cuda\" if torch.cuda.is_available() else \"cpu\")"
   ]
  },
  {
   "cell_type": "markdown",
   "metadata": {},
   "source": [
    "Read in the train and test CSVs first and see what they look like."
   ]
  },
  {
   "cell_type": "code",
   "execution_count": 3,
   "metadata": {},
   "outputs": [],
   "source": [
    "train_features = pd.read_csv(\"train_features.csv\", index_col=\"id\")\n",
    "test_features = pd.read_csv(\"test_features.csv\", index_col=\"id\")\n",
    "train_labels = pd.read_csv(\"train_labels.csv\", index_col=\"id\")"
   ]
  },
  {
   "cell_type": "markdown",
   "metadata": {},
   "source": [
    "The `features` CSVs contain the image ID, filepath and site ID for each image. "
   ]
  },
  {
   "cell_type": "markdown",
   "metadata": {},
   "source": [
    "The `train_labels` CSV is an indicator matrix of the species identified in each of the training images. Some images are labeled as \"blank\" if no animal was detected."
   ]
  },
  {
   "cell_type": "code",
   "execution_count": 4,
   "metadata": {},
   "outputs": [
    {
     "name": "stdout",
     "output_type": "stream",
     "text": [
      "['antelope_duiker', 'bird', 'blank', 'civet_genet', 'hog', 'leopard', 'monkey_prosimian', 'rodent']\n"
     ]
    }
   ],
   "source": [
    "species_labels = sorted(train_labels.columns.unique())\n",
    "print(species_labels)"
   ]
  },
  {
   "cell_type": "code",
   "execution_count": 5,
   "metadata": {},
   "outputs": [],
   "source": [
    "from sklearn.model_selection import train_test_split\n",
    "\n",
    "frac = 1\n",
    "\n",
    "y = train_labels.sample(frac=frac, random_state=1)\n",
    "x = train_features.loc[y.index].filepath.to_frame()\n",
    "\n",
    "# note that we are casting the species labels to an indicator/dummy matrix\n",
    "x_train, x_eval, y_train, y_eval = train_test_split(\n",
    "    x, y, stratify=y, test_size=0.2\n",
    ")"
   ]
  },
  {
   "cell_type": "code",
   "execution_count": 6,
   "metadata": {},
   "outputs": [
    {
     "data": {
      "text/plain": [
       "((13190, 1), (13190, 8), (3298, 1), (3298, 8))"
      ]
     },
     "execution_count": 6,
     "metadata": {},
     "output_type": "execute_result"
    }
   ],
   "source": [
    "x_train.shape, y_train.shape, x_eval.shape, y_eval.shape"
   ]
  },
  {
   "cell_type": "markdown",
   "metadata": {},
   "source": [
    "Next, let's validate that our split has resulted in roughly similar relative distributions of species across the train and eval sets (because of how we passed `stratify=y` above)."
   ]
  },
  {
   "cell_type": "code",
   "execution_count": 7,
   "metadata": {},
   "outputs": [
    {
     "name": "stdout",
     "output_type": "stream",
     "text": [
      "Species percentages by split\n"
     ]
    },
    {
     "data": {
      "text/html": [
       "<div>\n",
       "<style scoped>\n",
       "    .dataframe tbody tr th:only-of-type {\n",
       "        vertical-align: middle;\n",
       "    }\n",
       "\n",
       "    .dataframe tbody tr th {\n",
       "        vertical-align: top;\n",
       "    }\n",
       "\n",
       "    .dataframe thead th {\n",
       "        text-align: right;\n",
       "    }\n",
       "</style>\n",
       "<table border=\"1\" class=\"dataframe\">\n",
       "  <thead>\n",
       "    <tr style=\"text-align: right;\">\n",
       "      <th></th>\n",
       "      <th>train</th>\n",
       "      <th>eval</th>\n",
       "    </tr>\n",
       "  </thead>\n",
       "  <tbody>\n",
       "    <tr>\n",
       "      <th>monkey_prosimian</th>\n",
       "      <td>15</td>\n",
       "      <td>15</td>\n",
       "    </tr>\n",
       "    <tr>\n",
       "      <th>antelope_duiker</th>\n",
       "      <td>15</td>\n",
       "      <td>15</td>\n",
       "    </tr>\n",
       "    <tr>\n",
       "      <th>civet_genet</th>\n",
       "      <td>14</td>\n",
       "      <td>14</td>\n",
       "    </tr>\n",
       "    <tr>\n",
       "      <th>leopard</th>\n",
       "      <td>13</td>\n",
       "      <td>13</td>\n",
       "    </tr>\n",
       "    <tr>\n",
       "      <th>blank</th>\n",
       "      <td>13</td>\n",
       "      <td>13</td>\n",
       "    </tr>\n",
       "    <tr>\n",
       "      <th>rodent</th>\n",
       "      <td>12</td>\n",
       "      <td>12</td>\n",
       "    </tr>\n",
       "    <tr>\n",
       "      <th>bird</th>\n",
       "      <td>9</td>\n",
       "      <td>9</td>\n",
       "    </tr>\n",
       "    <tr>\n",
       "      <th>hog</th>\n",
       "      <td>5</td>\n",
       "      <td>5</td>\n",
       "    </tr>\n",
       "  </tbody>\n",
       "</table>\n",
       "</div>"
      ],
      "text/plain": [
       "                  train  eval\n",
       "monkey_prosimian     15    15\n",
       "antelope_duiker      15    15\n",
       "civet_genet          14    14\n",
       "leopard              13    13\n",
       "blank                13    13\n",
       "rodent               12    12\n",
       "bird                  9     9\n",
       "hog                   5     5"
      ]
     },
     "execution_count": 7,
     "metadata": {},
     "output_type": "execute_result"
    }
   ],
   "source": [
    "split_pcts = pd.DataFrame(\n",
    "    {\n",
    "        \"train\": y_train.idxmax(axis=1).value_counts(normalize=True),\n",
    "        \"eval\": y_eval.idxmax(axis=1).value_counts(normalize=True),\n",
    "    }\n",
    ")\n",
    "print(\"Species percentages by split\")\n",
    "(split_pcts.fillna(0) * 100).astype(int)"
   ]
  },
  {
   "cell_type": "code",
   "execution_count": 8,
   "metadata": {
    "tags": []
   },
   "outputs": [],
   "source": [
    "import torch\n",
    "from torch.utils.data import Dataset\n",
    "from torchvision import transforms\n",
    "\n",
    "\n",
    "class ImagesDataset(Dataset):\n",
    "    \"\"\"Reads in an image, transforms pixel values, and serves\n",
    "    a dictionary containing the image id, image tensors, and label.\n",
    "    \"\"\"\n",
    "\n",
    "    def __init__(self, x_df, y_df=None, epoch = 0, eval = False):\n",
    "        self.data = x_df\n",
    "        self.label = y_df\n",
    "\n",
    "        if eval:\n",
    "\n",
    "            #no transformations but resize\n",
    "            self.transform = transforms.Compose(\n",
    "                [\n",
    "                    transforms.Resize((224, 224)),\n",
    "                    transforms.Grayscale(3), \n",
    "                    transforms.ToTensor(),\n",
    "                    transforms.Normalize(\n",
    "                        mean=(0.485, 0.456, 0.406), std=(0.229, 0.224, 0.225)\n",
    "                    ),  \n",
    "                ]\n",
    "            )\n",
    "\n",
    "        else:\n",
    "\n",
    "            print(\"Using random selection of transformations\")\n",
    "            self.transform = transforms.Compose(\n",
    "            [\n",
    "            transforms.Resize((224, 224)),\n",
    "            transforms.Grayscale(3), \n",
    "            transforms.RandomApply([\n",
    "                transforms.RandomHorizontalFlip(p=0.5),\n",
    "                transforms.RandomRotation(10),\n",
    "                ],0.3),\n",
    "            transforms.RandomApply([\n",
    "                transforms.ColorJitter(0.1,0.1,0.1,0.1),\n",
    "                transforms.Grayscale(3)\n",
    "                ],0.5), \n",
    "            transforms.ToTensor(),\n",
    "            transforms.Normalize(\n",
    "                mean=(0.485, 0.456, 0.406), std=(0.229, 0.224, 0.225)\n",
    "                ),\n",
    "            ])\n",
    "        \n",
    "                \n",
    "\n",
    "    def __getitem__(self, index):\n",
    "        image = Image.open(self.data.iloc[index][\"filepath\"]).convert(\"RGB\")\n",
    "        image = self.transform(image)\n",
    "        image_id = self.data.index[index]\n",
    "        # if we don't have labels (e.g. for test set) just return the image and image id\n",
    "        if self.label is None:\n",
    "            sample = {\"image_id\": image_id, \"image\": image}\n",
    "        else:\n",
    "            label = torch.tensor(self.label.iloc[index].values, \n",
    "                                 dtype=torch.float)\n",
    "            sample = {\"image_id\": image_id, \"image\": image, \"label\": label}\n",
    "        return sample\n",
    "\n",
    "    def __len__(self):\n",
    "        return len(self.data)"
   ]
  },
  {
   "cell_type": "code",
   "execution_count": 9,
   "metadata": {},
   "outputs": [
    {
     "name": "stderr",
     "output_type": "stream",
     "text": [
      "c:\\Users\\Will Poulett\\AppData\\Local\\Programs\\Python\\Python311\\Lib\\site-packages\\torchvision\\models\\_utils.py:208: UserWarning: The parameter 'pretrained' is deprecated since 0.13 and may be removed in the future, please use 'weights' instead.\n",
      "  warnings.warn(\n",
      "c:\\Users\\Will Poulett\\AppData\\Local\\Programs\\Python\\Python311\\Lib\\site-packages\\torchvision\\models\\_utils.py:223: UserWarning: Arguments other than a weight enum or `None` for 'weights' are deprecated since 0.13 and may be removed in the future. The current behavior is equivalent to passing `weights=ResNet152_Weights.IMAGENET1K_V1`. You can also use `weights=ResNet152_Weights.DEFAULT` to get the most up-to-date weights.\n",
      "  warnings.warn(msg)\n"
     ]
    }
   ],
   "source": [
    "from torch import nn\n",
    "import torchvision.models as models\n",
    "\n",
    "model = models.resnet152(pretrained=True)\n",
    "\n",
    "model.fc = nn.Sequential(\n",
    "    nn.Linear(2048, 100),  # dense layer takes a 2048-dim input and outputs 100-dim\n",
    "    nn.ReLU(inplace=True),  # ReLU activation introduces non-linearity\n",
    "    nn.Dropout(0.1),  # common technique to mitigate overfitting\n",
    "    nn.Linear(\n",
    "        100, 8\n",
    "    ),  # final dense layer outputs 8-dim corresponding to our target classes\n",
    ")"
   ]
  },
  {
   "cell_type": "markdown",
   "metadata": {},
   "source": [
    "### Define our loss function\n",
    "Cross entropy loss (or log loss) is a commonly used loss function for multi-class (not multi-label) image classification. We'll use this to compute loss for each training batch and then update our parameters accordingly. "
   ]
  },
  {
   "cell_type": "code",
   "execution_count": 10,
   "metadata": {},
   "outputs": [],
   "source": [
    "#Define loss function\n",
    "\n",
    "\n"
   ]
  },
  {
   "cell_type": "code",
   "execution_count": 11,
   "metadata": {},
   "outputs": [],
   "source": [
    "# Send model to GPU\n",
    "# Send the model to GPU\n",
    "model = model.to(DEVICE)"
   ]
  },
  {
   "cell_type": "code",
   "execution_count": 12,
   "metadata": {
    "tags": []
   },
   "outputs": [
    {
     "name": "stdout",
     "output_type": "stream",
     "text": [
      "Starting epoch 1\n",
      "Using random selection of transformations\n"
     ]
    },
    {
     "name": "stderr",
     "output_type": "stream",
     "text": [
      "100%|██████████| 825/825 [04:58<00:00,  2.77it/s]\n"
     ]
    },
    {
     "name": "stdout",
     "output_type": "stream",
     "text": [
      "SGD lr 0.0010 -> 0.0010\n",
      "The loss: 1.47 (Not averaged)\n",
      "Starting epoch 2\n",
      "Using random selection of transformations\n"
     ]
    },
    {
     "name": "stderr",
     "output_type": "stream",
     "text": [
      "100%|██████████| 825/825 [04:52<00:00,  2.82it/s]\n"
     ]
    },
    {
     "name": "stdout",
     "output_type": "stream",
     "text": [
      "SGD lr 0.0010 -> 0.0009\n",
      "The loss: 1.17 (Not averaged)\n",
      "Starting epoch 3\n",
      "Using random selection of transformations\n"
     ]
    },
    {
     "name": "stderr",
     "output_type": "stream",
     "text": [
      "100%|██████████| 825/825 [04:52<00:00,  2.83it/s]\n"
     ]
    },
    {
     "name": "stdout",
     "output_type": "stream",
     "text": [
      "SGD lr 0.0009 -> 0.0009\n",
      "The loss: 0.7 (Not averaged)\n",
      "Starting epoch 4\n",
      "Using random selection of transformations\n"
     ]
    },
    {
     "name": "stderr",
     "output_type": "stream",
     "text": [
      "100%|██████████| 825/825 [04:41<00:00,  2.93it/s]\n"
     ]
    },
    {
     "name": "stdout",
     "output_type": "stream",
     "text": [
      "SGD lr 0.0009 -> 0.0009\n",
      "The loss: 0.19 (Not averaged)\n",
      "Starting epoch 5\n",
      "Using random selection of transformations\n"
     ]
    },
    {
     "name": "stderr",
     "output_type": "stream",
     "text": [
      "100%|██████████| 825/825 [04:34<00:00,  3.01it/s]\n"
     ]
    },
    {
     "name": "stdout",
     "output_type": "stream",
     "text": [
      "SGD lr 0.0009 -> 0.0009\n",
      "The loss: 0.13 (Not averaged)\n",
      "Starting epoch 6\n",
      "Using random selection of transformations\n"
     ]
    },
    {
     "name": "stderr",
     "output_type": "stream",
     "text": [
      "100%|██████████| 825/825 [04:15<00:00,  3.22it/s]\n"
     ]
    },
    {
     "name": "stdout",
     "output_type": "stream",
     "text": [
      "SGD lr 0.0009 -> 0.0008\n",
      "The loss: 0.21 (Not averaged)\n",
      "Starting epoch 7\n",
      "Using random selection of transformations\n"
     ]
    },
    {
     "name": "stderr",
     "output_type": "stream",
     "text": [
      "100%|██████████| 825/825 [04:29<00:00,  3.06it/s]\n"
     ]
    },
    {
     "name": "stdout",
     "output_type": "stream",
     "text": [
      "SGD lr 0.0008 -> 0.0008\n",
      "The loss: 0.02 (Not averaged)\n",
      "Starting epoch 8\n",
      "Using random selection of transformations\n"
     ]
    },
    {
     "name": "stderr",
     "output_type": "stream",
     "text": [
      "100%|██████████| 825/825 [04:52<00:00,  2.82it/s]\n"
     ]
    },
    {
     "name": "stdout",
     "output_type": "stream",
     "text": [
      "SGD lr 0.0008 -> 0.0008\n",
      "The loss: 0.3 (Not averaged)\n",
      "Starting epoch 9\n",
      "Using random selection of transformations\n"
     ]
    },
    {
     "name": "stderr",
     "output_type": "stream",
     "text": [
      "100%|██████████| 825/825 [04:23<00:00,  3.13it/s]\n"
     ]
    },
    {
     "name": "stdout",
     "output_type": "stream",
     "text": [
      "SGD lr 0.0008 -> 0.0007\n",
      "The loss: 0.06 (Not averaged)\n",
      "Starting epoch 10\n",
      "Using random selection of transformations\n"
     ]
    },
    {
     "name": "stderr",
     "output_type": "stream",
     "text": [
      "100%|██████████| 825/825 [04:15<00:00,  3.23it/s]\n"
     ]
    },
    {
     "name": "stdout",
     "output_type": "stream",
     "text": [
      "SGD lr 0.0007 -> 0.0007\n",
      "The loss: 0.7 (Not averaged)\n",
      "Starting epoch 11\n",
      "Using random selection of transformations\n"
     ]
    },
    {
     "name": "stderr",
     "output_type": "stream",
     "text": [
      "100%|██████████| 825/825 [04:14<00:00,  3.24it/s]\n"
     ]
    },
    {
     "name": "stdout",
     "output_type": "stream",
     "text": [
      "SGD lr 0.0007 -> 0.0007\n",
      "The loss: 0.28 (Not averaged)\n",
      "Starting epoch 12\n",
      "Using random selection of transformations\n"
     ]
    },
    {
     "name": "stderr",
     "output_type": "stream",
     "text": [
      "100%|██████████| 825/825 [04:12<00:00,  3.27it/s]\n"
     ]
    },
    {
     "name": "stdout",
     "output_type": "stream",
     "text": [
      "SGD lr 0.0007 -> 0.0006\n",
      "The loss: 0.25 (Not averaged)\n",
      "Starting epoch 13\n",
      "Using random selection of transformations\n"
     ]
    },
    {
     "name": "stderr",
     "output_type": "stream",
     "text": [
      "100%|██████████| 825/825 [04:15<00:00,  3.23it/s]\n"
     ]
    },
    {
     "name": "stdout",
     "output_type": "stream",
     "text": [
      "SGD lr 0.0006 -> 0.0006\n",
      "The loss: 0.45 (Not averaged)\n",
      "Starting epoch 14\n",
      "Using random selection of transformations\n"
     ]
    },
    {
     "name": "stderr",
     "output_type": "stream",
     "text": [
      "100%|██████████| 825/825 [04:11<00:00,  3.28it/s]\n"
     ]
    },
    {
     "name": "stdout",
     "output_type": "stream",
     "text": [
      "SGD lr 0.0006 -> 0.0006\n",
      "The loss: 0.17 (Not averaged)\n",
      "Starting epoch 15\n",
      "Using random selection of transformations\n"
     ]
    },
    {
     "name": "stderr",
     "output_type": "stream",
     "text": [
      "100%|██████████| 825/825 [04:09<00:00,  3.31it/s]\n"
     ]
    },
    {
     "name": "stdout",
     "output_type": "stream",
     "text": [
      "SGD lr 0.0006 -> 0.0006\n",
      "The loss: 0.02 (Not averaged)\n",
      "Starting epoch 16\n",
      "Using random selection of transformations\n"
     ]
    },
    {
     "name": "stderr",
     "output_type": "stream",
     "text": [
      "100%|██████████| 825/825 [04:23<00:00,  3.13it/s]\n"
     ]
    },
    {
     "name": "stdout",
     "output_type": "stream",
     "text": [
      "SGD lr 0.0006 -> 0.0005\n",
      "The loss: 0.0 (Not averaged)\n",
      "Starting epoch 17\n",
      "Using random selection of transformations\n"
     ]
    },
    {
     "name": "stderr",
     "output_type": "stream",
     "text": [
      "100%|██████████| 825/825 [04:29<00:00,  3.06it/s]\n"
     ]
    },
    {
     "name": "stdout",
     "output_type": "stream",
     "text": [
      "SGD lr 0.0005 -> 0.0005\n",
      "The loss: 0.03 (Not averaged)\n",
      "Starting epoch 18\n",
      "Using random selection of transformations\n"
     ]
    },
    {
     "name": "stderr",
     "output_type": "stream",
     "text": [
      "100%|██████████| 825/825 [04:20<00:00,  3.17it/s]\n"
     ]
    },
    {
     "name": "stdout",
     "output_type": "stream",
     "text": [
      "SGD lr 0.0005 -> 0.0005\n",
      "The loss: 0.01 (Not averaged)\n",
      "Starting epoch 19\n",
      "Using random selection of transformations\n"
     ]
    },
    {
     "name": "stderr",
     "output_type": "stream",
     "text": [
      "100%|██████████| 825/825 [04:10<00:00,  3.29it/s]\n"
     ]
    },
    {
     "name": "stdout",
     "output_type": "stream",
     "text": [
      "SGD lr 0.0005 -> 0.0004\n",
      "The loss: 0.01 (Not averaged)\n",
      "Starting epoch 20\n",
      "Using random selection of transformations\n"
     ]
    },
    {
     "name": "stderr",
     "output_type": "stream",
     "text": [
      "100%|██████████| 825/825 [04:13<00:00,  3.26it/s]\n"
     ]
    },
    {
     "name": "stdout",
     "output_type": "stream",
     "text": [
      "SGD lr 0.0004 -> 0.0004\n",
      "The loss: 0.0 (Not averaged)\n",
      "Starting epoch 21\n",
      "Using random selection of transformations\n"
     ]
    },
    {
     "name": "stderr",
     "output_type": "stream",
     "text": [
      "100%|██████████| 825/825 [04:34<00:00,  3.01it/s]\n"
     ]
    },
    {
     "name": "stdout",
     "output_type": "stream",
     "text": [
      "SGD lr 0.0004 -> 0.0004\n",
      "The loss: 0.01 (Not averaged)\n",
      "Starting epoch 22\n",
      "Using random selection of transformations\n"
     ]
    },
    {
     "name": "stderr",
     "output_type": "stream",
     "text": [
      "100%|██████████| 825/825 [04:33<00:00,  3.01it/s]\n"
     ]
    },
    {
     "name": "stdout",
     "output_type": "stream",
     "text": [
      "SGD lr 0.0004 -> 0.0003\n",
      "The loss: 0.0 (Not averaged)\n",
      "Starting epoch 23\n",
      "Using random selection of transformations\n"
     ]
    },
    {
     "name": "stderr",
     "output_type": "stream",
     "text": [
      "100%|██████████| 825/825 [04:15<00:00,  3.23it/s]\n"
     ]
    },
    {
     "name": "stdout",
     "output_type": "stream",
     "text": [
      "SGD lr 0.0003 -> 0.0003\n",
      "The loss: 0.01 (Not averaged)\n",
      "Starting epoch 24\n",
      "Using random selection of transformations\n"
     ]
    },
    {
     "name": "stderr",
     "output_type": "stream",
     "text": [
      "100%|██████████| 825/825 [04:18<00:00,  3.19it/s]\n"
     ]
    },
    {
     "name": "stdout",
     "output_type": "stream",
     "text": [
      "SGD lr 0.0003 -> 0.0003\n",
      "The loss: 0.02 (Not averaged)\n",
      "Starting epoch 25\n",
      "Using random selection of transformations\n"
     ]
    },
    {
     "name": "stderr",
     "output_type": "stream",
     "text": [
      "100%|██████████| 825/825 [04:16<00:00,  3.22it/s]\n"
     ]
    },
    {
     "name": "stdout",
     "output_type": "stream",
     "text": [
      "SGD lr 0.0003 -> 0.0003\n",
      "The loss: 0.01 (Not averaged)\n",
      "Starting epoch 26\n",
      "Using random selection of transformations\n"
     ]
    },
    {
     "name": "stderr",
     "output_type": "stream",
     "text": [
      "100%|██████████| 825/825 [04:16<00:00,  3.22it/s]\n"
     ]
    },
    {
     "name": "stdout",
     "output_type": "stream",
     "text": [
      "SGD lr 0.0003 -> 0.0002\n",
      "The loss: 0.0 (Not averaged)\n",
      "Starting epoch 27\n",
      "Using random selection of transformations\n"
     ]
    },
    {
     "name": "stderr",
     "output_type": "stream",
     "text": [
      "100%|██████████| 825/825 [04:21<00:00,  3.16it/s]\n"
     ]
    },
    {
     "name": "stdout",
     "output_type": "stream",
     "text": [
      "SGD lr 0.0002 -> 0.0002\n",
      "The loss: 0.0 (Not averaged)\n",
      "Starting epoch 28\n",
      "Using random selection of transformations\n"
     ]
    },
    {
     "name": "stderr",
     "output_type": "stream",
     "text": [
      "100%|██████████| 825/825 [04:28<00:00,  3.07it/s]\n"
     ]
    },
    {
     "name": "stdout",
     "output_type": "stream",
     "text": [
      "SGD lr 0.0002 -> 0.0002\n",
      "The loss: 0.0 (Not averaged)\n",
      "Starting epoch 29\n",
      "Using random selection of transformations\n"
     ]
    },
    {
     "name": "stderr",
     "output_type": "stream",
     "text": [
      "100%|██████████| 825/825 [04:13<00:00,  3.25it/s]\n"
     ]
    },
    {
     "name": "stdout",
     "output_type": "stream",
     "text": [
      "SGD lr 0.0002 -> 0.0001\n",
      "The loss: 0.0 (Not averaged)\n",
      "Starting epoch 30\n",
      "Using random selection of transformations\n"
     ]
    },
    {
     "name": "stderr",
     "output_type": "stream",
     "text": [
      "100%|██████████| 825/825 [04:42<00:00,  2.92it/s]"
     ]
    },
    {
     "name": "stdout",
     "output_type": "stream",
     "text": [
      "SGD lr 0.0001 -> 0.0001\n",
      "The loss: 0.0 (Not averaged)\n"
     ]
    },
    {
     "name": "stderr",
     "output_type": "stream",
     "text": [
      "\n"
     ]
    }
   ],
   "source": [
    "from torch.utils.data import DataLoader\n",
    "import torch.optim as optim\n",
    "import torch.optim.lr_scheduler as lr_scheduler\n",
    "\n",
    "num_epochs = 30\n",
    "\n",
    "criterion = nn.CrossEntropyLoss()\n",
    "optimizer = optim.SGD(model.parameters(), lr=0.001, momentum=0.9)\n",
    "scheduler = lr_scheduler.LinearLR(optimizer, start_factor=1.0, end_factor=0.1, total_iters=num_epochs)\n",
    "\n",
    "tracking_loss = {}\n",
    "\n",
    "for epoch in range(1, num_epochs + 1):\n",
    "    print(f\"Starting epoch {epoch}\")\n",
    "    \n",
    "    train_dataset = ImagesDataset(x_train, y_train, epoch)\n",
    "    train_dataloader = DataLoader(train_dataset, batch_size=16)\n",
    "\n",
    "    # iterate through the dataloader batches. tqdm keeps track of progress.\n",
    "    for batch_n, batch in tqdm(\n",
    "        enumerate(train_dataloader), total=len(train_dataloader)\n",
    "    ):\n",
    "        \n",
    "        # 1) zero out the parameter gradients so that gradients from previous batches are not used in this step\n",
    "        optimizer.zero_grad()\n",
    "\n",
    "        # 2) run the forward step on this batch of images\n",
    "        outputs = model(batch[\"image\"].to(DEVICE))\n",
    "\n",
    "        # 3) compute the loss\n",
    "        loss = criterion(outputs, batch[\"label\"].to(DEVICE))\n",
    "\n",
    "        # let's keep track of the loss by epoch and batch\n",
    "        tracking_loss[(epoch, batch_n)] = float(loss)\n",
    "\n",
    "        # 4) compute our gradients\n",
    "        loss.backward()\n",
    "        # update our weights\n",
    "        optimizer.step()\n",
    "\n",
    "    before_lr = optimizer.param_groups[0][\"lr\"]\n",
    "    scheduler.step()\n",
    "    after_lr = optimizer.param_groups[0][\"lr\"]\n",
    "\n",
    "    print(\"SGD lr %.4f -> %.4f\" % (before_lr, after_lr))\n",
    "    print(f\"The loss: {round(float(loss),2)} (Not averaged)\")"
   ]
  },
  {
   "cell_type": "markdown",
   "metadata": {},
   "source": [
    "Now let's plot the loss by epoch and batch. The x-axis here is a tuple of `(epoch, batch)`."
   ]
  },
  {
   "cell_type": "code",
   "execution_count": 13,
   "metadata": {},
   "outputs": [
    {
     "data": {
      "text/plain": [
       "<matplotlib.legend.Legend at 0x288d601f590>"
      ]
     },
     "execution_count": 13,
     "metadata": {},
     "output_type": "execute_result"
    },
    {
     "data": {
      "image/png": "[encoded data removed]",
      "text/plain": [
       "<Figure size 1000x500 with 1 Axes>"
      ]
     },
     "metadata": {},
     "output_type": "display_data"
    }
   ],
   "source": [
    "tracking_loss = pd.Series(tracking_loss)\n",
    "\n",
    "plt.figure(figsize=(10, 5))\n",
    "tracking_loss.plot(alpha=0.2, label=\"loss\")\n",
    "tracking_loss.rolling(center=True, min_periods=1, window=10).mean().plot(\n",
    "    label=\"loss (moving avg)\"\n",
    ")\n",
    "plt.xlabel(\"(Epoch, Batch)\")\n",
    "plt.ylabel(\"Loss\")\n",
    "plt.legend(loc=0)"
   ]
  },
  {
   "cell_type": "markdown",
   "metadata": {},
   "source": [
    "Good news, the loss is going down! This is an encouraging start, especially since we haven't done anything fancy yet."
   ]
  },
  {
   "cell_type": "markdown",
   "metadata": {},
   "source": [
    "### Save the model\n",
    "We have the model loaded in memory already, so we don't really need to save the model, but it's often useful to do this so we can use it again later. \n",
    "\n",
    "Here's how:"
   ]
  },
  {
   "cell_type": "code",
   "execution_count": 14,
   "metadata": {},
   "outputs": [],
   "source": [
    "torch.save(model, \"model.pth\")"
   ]
  },
  {
   "cell_type": "markdown",
   "metadata": {},
   "source": [
    "## 7. Evaluation\n",
    "So far, not so bad. We've shown an improvement in the loss on the training set, but that tells us little about how our model will do on new data. Let's reload our saved model and try generating some predictions on the evaluation split we created earlier."
   ]
  },
  {
   "cell_type": "code",
   "execution_count": 15,
   "metadata": {},
   "outputs": [],
   "source": [
    "loaded_model = torch.load(\"model.pth\")"
   ]
  },
  {
   "cell_type": "markdown",
   "metadata": {},
   "source": [
    "We create the eval dataset and dataloader just like we did earlier with the training dataset and dataloader:"
   ]
  },
  {
   "cell_type": "code",
   "execution_count": 16,
   "metadata": {},
   "outputs": [],
   "source": [
    "eval_dataset = ImagesDataset(x_eval, y_eval, eval = True)\n",
    "eval_dataloader = DataLoader(eval_dataset, batch_size=32)"
   ]
  },
  {
   "cell_type": "markdown",
   "metadata": {},
   "source": [
    "### Make predictions\n",
    "We'll iterate through the eval dataloader in batches, just like we did for training, but this time we aren't going to need to compute gradients or update weights. For each batch, we'll do the following:\n",
    "1. Run the forward pass to get the model output or logits\n",
    "2. Apply a softmax function to convert the logits into probability space with range[0,1]. During training, the softmax operation was handled internally by `nn.CrossEntropyLoss`. We aren't computing the loss now because we are just doing evaluation, but we still want the predictions to be in the range[0,1]. \n",
    "3. Store the results in a dataframe for further analysis"
   ]
  },
  {
   "cell_type": "code",
   "execution_count": 17,
   "metadata": {
    "tags": []
   },
   "outputs": [
    {
     "name": "stderr",
     "output_type": "stream",
     "text": [
      "100%|██████████| 104/104 [00:52<00:00,  1.99it/s]\n"
     ]
    },
    {
     "data": {
      "text/html": [
       "<div>\n",
       "<style scoped>\n",
       "    .dataframe tbody tr th:only-of-type {\n",
       "        vertical-align: middle;\n",
       "    }\n",
       "\n",
       "    .dataframe tbody tr th {\n",
       "        vertical-align: top;\n",
       "    }\n",
       "\n",
       "    .dataframe thead th {\n",
       "        text-align: right;\n",
       "    }\n",
       "</style>\n",
       "<table border=\"1\" class=\"dataframe\">\n",
       "  <thead>\n",
       "    <tr style=\"text-align: right;\">\n",
       "      <th></th>\n",
       "      <th>antelope_duiker</th>\n",
       "      <th>bird</th>\n",
       "      <th>blank</th>\n",
       "      <th>civet_genet</th>\n",
       "      <th>hog</th>\n",
       "      <th>leopard</th>\n",
       "      <th>monkey_prosimian</th>\n",
       "      <th>rodent</th>\n",
       "    </tr>\n",
       "  </thead>\n",
       "  <tbody>\n",
       "    <tr>\n",
       "      <th>ZJ008504</th>\n",
       "      <td>6.538240e-08</td>\n",
       "      <td>6.803419e-07</td>\n",
       "      <td>4.324365e-06</td>\n",
       "      <td>7.066045e-08</td>\n",
       "      <td>1.395806e-06</td>\n",
       "      <td>9.999923e-01</td>\n",
       "      <td>1.071773e-06</td>\n",
       "      <td>2.610664e-10</td>\n",
       "    </tr>\n",
       "    <tr>\n",
       "      <th>ZJ008818</th>\n",
       "      <td>2.016909e-07</td>\n",
       "      <td>1.026432e-07</td>\n",
       "      <td>9.999993e-01</td>\n",
       "      <td>5.593532e-10</td>\n",
       "      <td>1.819357e-08</td>\n",
       "      <td>3.824444e-07</td>\n",
       "      <td>1.067890e-08</td>\n",
       "      <td>4.255670e-09</td>\n",
       "    </tr>\n",
       "    <tr>\n",
       "      <th>ZJ003621</th>\n",
       "      <td>2.820505e-08</td>\n",
       "      <td>9.573825e-11</td>\n",
       "      <td>1.152517e-07</td>\n",
       "      <td>9.999918e-01</td>\n",
       "      <td>7.404971e-10</td>\n",
       "      <td>2.423027e-06</td>\n",
       "      <td>6.063135e-10</td>\n",
       "      <td>5.682562e-06</td>\n",
       "    </tr>\n",
       "    <tr>\n",
       "      <th>ZJ008275</th>\n",
       "      <td>1.246844e-03</td>\n",
       "      <td>8.213396e-06</td>\n",
       "      <td>9.950042e-01</td>\n",
       "      <td>6.453879e-08</td>\n",
       "      <td>7.859942e-06</td>\n",
       "      <td>3.563544e-03</td>\n",
       "      <td>1.688706e-04</td>\n",
       "      <td>3.032638e-07</td>\n",
       "    </tr>\n",
       "    <tr>\n",
       "      <th>ZJ003026</th>\n",
       "      <td>3.857974e-07</td>\n",
       "      <td>6.412449e-06</td>\n",
       "      <td>9.788948e-06</td>\n",
       "      <td>2.611062e-08</td>\n",
       "      <td>4.931756e-09</td>\n",
       "      <td>1.811640e-08</td>\n",
       "      <td>9.999832e-01</td>\n",
       "      <td>2.476560e-07</td>\n",
       "    </tr>\n",
       "    <tr>\n",
       "      <th>...</th>\n",
       "      <td>...</td>\n",
       "      <td>...</td>\n",
       "      <td>...</td>\n",
       "      <td>...</td>\n",
       "      <td>...</td>\n",
       "      <td>...</td>\n",
       "      <td>...</td>\n",
       "      <td>...</td>\n",
       "    </tr>\n",
       "    <tr>\n",
       "      <th>ZJ015666</th>\n",
       "      <td>6.166889e-09</td>\n",
       "      <td>1.796691e-09</td>\n",
       "      <td>1.362266e-06</td>\n",
       "      <td>2.899045e-11</td>\n",
       "      <td>5.862060e-09</td>\n",
       "      <td>9.999986e-01</td>\n",
       "      <td>8.332159e-09</td>\n",
       "      <td>5.493655e-13</td>\n",
       "    </tr>\n",
       "    <tr>\n",
       "      <th>ZJ016188</th>\n",
       "      <td>1.046081e-08</td>\n",
       "      <td>1.425338e-06</td>\n",
       "      <td>2.281044e-06</td>\n",
       "      <td>6.632372e-10</td>\n",
       "      <td>2.665933e-08</td>\n",
       "      <td>9.999961e-01</td>\n",
       "      <td>2.397373e-07</td>\n",
       "      <td>3.020417e-10</td>\n",
       "    </tr>\n",
       "    <tr>\n",
       "      <th>ZJ002652</th>\n",
       "      <td>1.132711e-06</td>\n",
       "      <td>9.999979e-01</td>\n",
       "      <td>8.446433e-07</td>\n",
       "      <td>4.510698e-12</td>\n",
       "      <td>4.707213e-09</td>\n",
       "      <td>1.073978e-07</td>\n",
       "      <td>3.869884e-09</td>\n",
       "      <td>1.404125e-08</td>\n",
       "    </tr>\n",
       "    <tr>\n",
       "      <th>ZJ016442</th>\n",
       "      <td>6.977154e-07</td>\n",
       "      <td>1.084200e-07</td>\n",
       "      <td>1.744107e-04</td>\n",
       "      <td>6.727079e-09</td>\n",
       "      <td>8.647473e-06</td>\n",
       "      <td>9.998156e-01</td>\n",
       "      <td>5.422689e-07</td>\n",
       "      <td>3.662390e-10</td>\n",
       "    </tr>\n",
       "    <tr>\n",
       "      <th>ZJ002016</th>\n",
       "      <td>9.999446e-01</td>\n",
       "      <td>5.747126e-06</td>\n",
       "      <td>1.682030e-05</td>\n",
       "      <td>2.292431e-07</td>\n",
       "      <td>5.262500e-06</td>\n",
       "      <td>2.667570e-07</td>\n",
       "      <td>2.552202e-05</td>\n",
       "      <td>1.659913e-06</td>\n",
       "    </tr>\n",
       "  </tbody>\n",
       "</table>\n",
       "<p>3298 rows × 8 columns</p>\n",
       "</div>"
      ],
      "text/plain": [
       "          antelope_duiker          bird         blank   civet_genet  \\\n",
       "ZJ008504     6.538240e-08  6.803419e-07  4.324365e-06  7.066045e-08   \n",
       "ZJ008818     2.016909e-07  1.026432e-07  9.999993e-01  5.593532e-10   \n",
       "ZJ003621     2.820505e-08  9.573825e-11  1.152517e-07  9.999918e-01   \n",
       "ZJ008275     1.246844e-03  8.213396e-06  9.950042e-01  6.453879e-08   \n",
       "ZJ003026     3.857974e-07  6.412449e-06  9.788948e-06  2.611062e-08   \n",
       "...                   ...           ...           ...           ...   \n",
       "ZJ015666     6.166889e-09  1.796691e-09  1.362266e-06  2.899045e-11   \n",
       "ZJ016188     1.046081e-08  1.425338e-06  2.281044e-06  6.632372e-10   \n",
       "ZJ002652     1.132711e-06  9.999979e-01  8.446433e-07  4.510698e-12   \n",
       "ZJ016442     6.977154e-07  1.084200e-07  1.744107e-04  6.727079e-09   \n",
       "ZJ002016     9.999446e-01  5.747126e-06  1.682030e-05  2.292431e-07   \n",
       "\n",
       "                   hog       leopard  monkey_prosimian        rodent  \n",
       "ZJ008504  1.395806e-06  9.999923e-01      1.071773e-06  2.610664e-10  \n",
       "ZJ008818  1.819357e-08  3.824444e-07      1.067890e-08  4.255670e-09  \n",
       "ZJ003621  7.404971e-10  2.423027e-06      6.063135e-10  5.682562e-06  \n",
       "ZJ008275  7.859942e-06  3.563544e-03      1.688706e-04  3.032638e-07  \n",
       "ZJ003026  4.931756e-09  1.811640e-08      9.999832e-01  2.476560e-07  \n",
       "...                ...           ...               ...           ...  \n",
       "ZJ015666  5.862060e-09  9.999986e-01      8.332159e-09  5.493655e-13  \n",
       "ZJ016188  2.665933e-08  9.999961e-01      2.397373e-07  3.020417e-10  \n",
       "ZJ002652  4.707213e-09  1.073978e-07      3.869884e-09  1.404125e-08  \n",
       "ZJ016442  8.647473e-06  9.998156e-01      5.422689e-07  3.662390e-10  \n",
       "ZJ002016  5.262500e-06  2.667570e-07      2.552202e-05  1.659913e-06  \n",
       "\n",
       "[3298 rows x 8 columns]"
      ]
     },
     "execution_count": 17,
     "metadata": {},
     "output_type": "execute_result"
    }
   ],
   "source": [
    "preds_collector = []\n",
    "\n",
    "# put the model in eval mode so we don't update any parameters\n",
    "model.eval()\n",
    "\n",
    "# we aren't updating our weights so no need to calculate gradients\n",
    "with torch.no_grad():\n",
    "    for batch in tqdm(eval_dataloader, total=len(eval_dataloader)):\n",
    "        # 1) run the forward step\n",
    "        logits = model.forward(batch[\"image\"].to(DEVICE))\n",
    "        # 2) apply softmax so that model outputs are in range [0,1]\n",
    "        preds = nn.functional.softmax(logits, dim=1).to(DEVICE)\n",
    "        # 3) store this batch's predictions in df\n",
    "        # note that PyTorch Tensors need to first be detached from their computational graph before converting to numpy arrays\n",
    "        preds_df = pd.DataFrame(\n",
    "            preds.cpu().detach().numpy(),\n",
    "            index=batch[\"image_id\"],\n",
    "            columns=species_labels,\n",
    "        )\n",
    "        preds_collector.append(preds_df)\n",
    "\n",
    "eval_preds_df = pd.concat(preds_collector)\n",
    "eval_preds_df"
   ]
  },
  {
   "cell_type": "markdown",
   "metadata": {
    "tags": []
   },
   "source": [
    "### Predicted labels distribution\n",
    "First let's review the species distribution we saw in the training set."
   ]
  },
  {
   "cell_type": "code",
   "execution_count": 18,
   "metadata": {},
   "outputs": [
    {
     "name": "stdout",
     "output_type": "stream",
     "text": [
      "True labels (training):\n"
     ]
    },
    {
     "data": {
      "text/plain": [
       "monkey_prosimian    1994\n",
       "antelope_duiker     1979\n",
       "civet_genet         1938\n",
       "leopard             1803\n",
       "blank               1770\n",
       "rodent              1610\n",
       "bird                1313\n",
       "hog                  783\n",
       "dtype: int64"
      ]
     },
     "execution_count": 18,
     "metadata": {},
     "output_type": "execute_result"
    }
   ],
   "source": [
    "print(\"True labels (training):\")\n",
    "y_train.idxmax(axis=1).value_counts()"
   ]
  },
  {
   "cell_type": "markdown",
   "metadata": {},
   "source": [
    "Here's the distribution of our predictions on the eval set. "
   ]
  },
  {
   "cell_type": "code",
   "execution_count": 19,
   "metadata": {},
   "outputs": [
    {
     "name": "stdout",
     "output_type": "stream",
     "text": [
      "Predicted labels (eval):\n"
     ]
    },
    {
     "data": {
      "text/plain": [
       "monkey_prosimian    520\n",
       "civet_genet         497\n",
       "leopard             464\n",
       "antelope_duiker     460\n",
       "rodent              429\n",
       "blank               402\n",
       "bird                332\n",
       "hog                 194\n",
       "dtype: int64"
      ]
     },
     "execution_count": 19,
     "metadata": {},
     "output_type": "execute_result"
    }
   ],
   "source": [
    "print(\"Predicted labels (eval):\")\n",
    "eval_preds_df.idxmax(axis=1).value_counts()"
   ]
  },
  {
   "cell_type": "markdown",
   "metadata": {},
   "source": [
    "The actual evaluation set is more evenly distributed than our predictions, so we already know there is some room for improvement here."
   ]
  },
  {
   "cell_type": "code",
   "execution_count": 20,
   "metadata": {},
   "outputs": [
    {
     "name": "stdout",
     "output_type": "stream",
     "text": [
      "True labels (eval):\n"
     ]
    },
    {
     "data": {
      "text/plain": [
       "monkey_prosimian    498\n",
       "antelope_duiker     495\n",
       "civet_genet         485\n",
       "leopard             451\n",
       "blank               443\n",
       "rodent              403\n",
       "bird                328\n",
       "hog                 195\n",
       "dtype: int64"
      ]
     },
     "execution_count": 20,
     "metadata": {},
     "output_type": "execute_result"
    }
   ],
   "source": [
    "print(\"True labels (eval):\")\n",
    "y_eval.idxmax(axis=1).value_counts()"
   ]
  },
  {
   "cell_type": "markdown",
   "metadata": {},
   "source": [
    "### Accuracy\n",
    "Now let's compute how accurate our model is and compare that against some trivial baseline models. First let's get the labels with the highest score for each image."
   ]
  },
  {
   "cell_type": "code",
   "execution_count": 21,
   "metadata": {},
   "outputs": [
    {
     "data": {
      "text/plain": [
       "ZJ008504             leopard\n",
       "ZJ008818               blank\n",
       "ZJ003621         civet_genet\n",
       "ZJ008275               blank\n",
       "ZJ003026    monkey_prosimian\n",
       "dtype: object"
      ]
     },
     "execution_count": 21,
     "metadata": {},
     "output_type": "execute_result"
    }
   ],
   "source": [
    "eval_predictions = eval_preds_df.idxmax(axis=1)\n",
    "eval_predictions.head()"
   ]
  },
  {
   "cell_type": "code",
   "execution_count": 22,
   "metadata": {},
   "outputs": [
    {
     "data": {
      "text/plain": [
       "0.15100060642813826"
      ]
     },
     "execution_count": 22,
     "metadata": {},
     "output_type": "execute_result"
    }
   ],
   "source": [
    "eval_true = y_eval.idxmax(axis=1)\n",
    "\n",
    "(eval_true == \"monkey_prosimian\").sum() / len(eval_predictions)"
   ]
  },
  {
   "cell_type": "code",
   "execution_count": 23,
   "metadata": {},
   "outputs": [
    {
     "data": {
      "text/plain": [
       "0.906913280776228"
      ]
     },
     "execution_count": 23,
     "metadata": {},
     "output_type": "execute_result"
    }
   ],
   "source": [
    "correct = (eval_predictions == eval_true).sum()\n",
    "accuracy = correct / len(eval_predictions)\n",
    "accuracy"
   ]
  },
  {
   "cell_type": "code",
   "execution_count": 24,
   "metadata": {},
   "outputs": [
    {
     "data": {
      "image/png": "[encoded data removed]",
      "text/plain": [
       "<Figure size 1000x1000 with 2 Axes>"
      ]
     },
     "metadata": {},
     "output_type": "display_data"
    }
   ],
   "source": [
    "from sklearn.metrics import ConfusionMatrixDisplay\n",
    "\n",
    "fig, ax = plt.subplots(figsize=(10, 10))\n",
    "cm = ConfusionMatrixDisplay.from_predictions(\n",
    "    y_eval.idxmax(axis=1),\n",
    "    eval_preds_df.idxmax(axis=1),\n",
    "    ax=ax,\n",
    "    xticks_rotation=90,\n",
    "    colorbar=True,\n",
    ")"
   ]
  },
  {
   "cell_type": "markdown",
   "metadata": {},
   "source": [
    "That's where you come in! What can you do to improve on this benchmark?\n",
    "\n",
    "Here are some ideas you might want to try:\n",
    "* Train on the full training dataset. We've only used 50% of the training data so far.\n",
    "* Train for more epochs. We've only done 1 so far.\n",
    "* Try another pretrained model. For example, you may have more success with EfficientNet, or another ResNet model with more layers like ResNet152. See what's available from pytorch [here](https://pytorch.org/vision/stable/models.html). You may also want to review which models are or have been state of the art for image classification tasks, for example on [paperswithcode.com](https://paperswithcode.com/task/image-classification). Keep in mind that different models will require different input and output dimensions, so you'll need to update how you construct `model` above.\n",
    "* Experiment with different loss functions.\n",
    "* Experiment with different learning rates or learning rate schedulers.\n",
    "* Add more layers to the model head (`model.fc`).\n",
    "* You also may want to consider freezing the weights in the backbone model and only training the head (`model.fc`). If this results in higher accuracy, that suggests the current approach may be overwriting the backbone weights in a problematic way. One approach here would be to train just the model head, and then unfreeze the backbone but train at a lower learning rate.\n",
    "* Training will be much faster using GPUs, but you will need to make some small tweaks to the code.\n",
    "* As you become more comfortable iterating through different versions of the model, you may want to try out [PyTorch Lightning](https://www.pytorchlightning.ai/) or [Lightning Flash](https://lightning-flash.readthedocs.io/en/latest/quickstart.html), which build upon PyTorch and eliminate a lot of boilerplate code, in addition to providing a more complete research framework for deep learning problems."
   ]
  },
  {
   "cell_type": "markdown",
   "metadata": {},
   "source": [
    "## 8. Create submission"
   ]
  },
  {
   "cell_type": "markdown",
   "metadata": {},
   "source": [
    "Last but not least, we'll want to participate in the competition and see where we stand on the leaderboard.\n",
    "\n",
    "To do this we need to create predictions for the **competition test set** (not the eval set we used above). You don't have labels for these.\n",
    "\n",
    "We'll create predictions in the same way we did for the `eval` set, but this time using the `test_features` we downloaded from the [competition website](https://www.drivendata.org/competitions/87/competition-image-classification-wildlife-conservation/data/)."
   ]
  },
  {
   "cell_type": "code",
   "execution_count": 27,
   "metadata": {},
   "outputs": [],
   "source": [
    "test_dataset = ImagesDataset(test_features.filepath.to_frame(), eval = True)\n",
    "test_dataloader = DataLoader(test_dataset, batch_size=32)"
   ]
  },
  {
   "cell_type": "code",
   "execution_count": 28,
   "metadata": {},
   "outputs": [
    {
     "name": "stderr",
     "output_type": "stream",
     "text": [
      "100%|██████████| 140/140 [07:58<00:00,  3.42s/it]\n"
     ]
    },
    {
     "data": {
      "text/html": [
       "<div>\n",
       "<style scoped>\n",
       "    .dataframe tbody tr th:only-of-type {\n",
       "        vertical-align: middle;\n",
       "    }\n",
       "\n",
       "    .dataframe tbody tr th {\n",
       "        vertical-align: top;\n",
       "    }\n",
       "\n",
       "    .dataframe thead th {\n",
       "        text-align: right;\n",
       "    }\n",
       "</style>\n",
       "<table border=\"1\" class=\"dataframe\">\n",
       "  <thead>\n",
       "    <tr style=\"text-align: right;\">\n",
       "      <th></th>\n",
       "      <th>antelope_duiker</th>\n",
       "      <th>bird</th>\n",
       "      <th>blank</th>\n",
       "      <th>civet_genet</th>\n",
       "      <th>hog</th>\n",
       "      <th>leopard</th>\n",
       "      <th>monkey_prosimian</th>\n",
       "      <th>rodent</th>\n",
       "    </tr>\n",
       "  </thead>\n",
       "  <tbody>\n",
       "    <tr>\n",
       "      <th>ZJ016488</th>\n",
       "      <td>6.700181e-03</td>\n",
       "      <td>4.308352e-02</td>\n",
       "      <td>3.248338e-01</td>\n",
       "      <td>1.354428e-02</td>\n",
       "      <td>1.021933e-03</td>\n",
       "      <td>4.059860e-01</td>\n",
       "      <td>4.917143e-04</td>\n",
       "      <td>2.043385e-01</td>\n",
       "    </tr>\n",
       "    <tr>\n",
       "      <th>ZJ016489</th>\n",
       "      <td>9.999892e-01</td>\n",
       "      <td>2.501543e-06</td>\n",
       "      <td>1.466415e-06</td>\n",
       "      <td>2.189698e-07</td>\n",
       "      <td>4.944626e-08</td>\n",
       "      <td>1.454753e-09</td>\n",
       "      <td>6.687826e-06</td>\n",
       "      <td>3.644763e-08</td>\n",
       "    </tr>\n",
       "    <tr>\n",
       "      <th>ZJ016490</th>\n",
       "      <td>9.985054e-01</td>\n",
       "      <td>4.626489e-05</td>\n",
       "      <td>1.198208e-05</td>\n",
       "      <td>6.623314e-04</td>\n",
       "      <td>3.219967e-04</td>\n",
       "      <td>3.088149e-05</td>\n",
       "      <td>4.211601e-04</td>\n",
       "      <td>1.020992e-07</td>\n",
       "    </tr>\n",
       "    <tr>\n",
       "      <th>ZJ016491</th>\n",
       "      <td>5.170743e-08</td>\n",
       "      <td>1.339245e-08</td>\n",
       "      <td>3.804797e-09</td>\n",
       "      <td>1.325649e-08</td>\n",
       "      <td>4.449634e-09</td>\n",
       "      <td>9.999999e-01</td>\n",
       "      <td>1.692640e-10</td>\n",
       "      <td>4.026581e-11</td>\n",
       "    </tr>\n",
       "    <tr>\n",
       "      <th>ZJ016492</th>\n",
       "      <td>3.025997e-01</td>\n",
       "      <td>3.499620e-03</td>\n",
       "      <td>3.343714e-03</td>\n",
       "      <td>4.479385e-05</td>\n",
       "      <td>1.993265e-04</td>\n",
       "      <td>9.436923e-06</td>\n",
       "      <td>6.902849e-01</td>\n",
       "      <td>1.853017e-05</td>\n",
       "    </tr>\n",
       "    <tr>\n",
       "      <th>...</th>\n",
       "      <td>...</td>\n",
       "      <td>...</td>\n",
       "      <td>...</td>\n",
       "      <td>...</td>\n",
       "      <td>...</td>\n",
       "      <td>...</td>\n",
       "      <td>...</td>\n",
       "      <td>...</td>\n",
       "    </tr>\n",
       "    <tr>\n",
       "      <th>ZJ020947</th>\n",
       "      <td>1.017359e-03</td>\n",
       "      <td>3.281561e-04</td>\n",
       "      <td>2.065691e-04</td>\n",
       "      <td>2.117629e-07</td>\n",
       "      <td>2.014552e-05</td>\n",
       "      <td>2.915182e-05</td>\n",
       "      <td>9.983982e-01</td>\n",
       "      <td>8.489297e-08</td>\n",
       "    </tr>\n",
       "    <tr>\n",
       "      <th>ZJ020948</th>\n",
       "      <td>6.695337e-04</td>\n",
       "      <td>1.660851e-03</td>\n",
       "      <td>9.973227e-01</td>\n",
       "      <td>9.480266e-09</td>\n",
       "      <td>3.027177e-04</td>\n",
       "      <td>3.283553e-05</td>\n",
       "      <td>9.025878e-06</td>\n",
       "      <td>2.429917e-06</td>\n",
       "    </tr>\n",
       "    <tr>\n",
       "      <th>ZJ020949</th>\n",
       "      <td>9.704066e-01</td>\n",
       "      <td>1.633840e-08</td>\n",
       "      <td>2.289002e-02</td>\n",
       "      <td>6.612544e-03</td>\n",
       "      <td>7.379169e-05</td>\n",
       "      <td>2.454669e-07</td>\n",
       "      <td>7.149537e-07</td>\n",
       "      <td>1.611188e-05</td>\n",
       "    </tr>\n",
       "    <tr>\n",
       "      <th>ZJ020950</th>\n",
       "      <td>9.936637e-01</td>\n",
       "      <td>2.044215e-06</td>\n",
       "      <td>6.756863e-05</td>\n",
       "      <td>1.398843e-07</td>\n",
       "      <td>6.162533e-03</td>\n",
       "      <td>2.403719e-05</td>\n",
       "      <td>8.012909e-05</td>\n",
       "      <td>2.953884e-08</td>\n",
       "    </tr>\n",
       "    <tr>\n",
       "      <th>ZJ020951</th>\n",
       "      <td>3.988994e-07</td>\n",
       "      <td>1.269450e-07</td>\n",
       "      <td>1.151655e-04</td>\n",
       "      <td>4.567602e-11</td>\n",
       "      <td>6.035066e-08</td>\n",
       "      <td>9.998842e-01</td>\n",
       "      <td>1.325561e-09</td>\n",
       "      <td>6.416419e-12</td>\n",
       "    </tr>\n",
       "  </tbody>\n",
       "</table>\n",
       "<p>4464 rows × 8 columns</p>\n",
       "</div>"
      ],
      "text/plain": [
       "          antelope_duiker          bird         blank   civet_genet  \\\n",
       "ZJ016488     6.700181e-03  4.308352e-02  3.248338e-01  1.354428e-02   \n",
       "ZJ016489     9.999892e-01  2.501543e-06  1.466415e-06  2.189698e-07   \n",
       "ZJ016490     9.985054e-01  4.626489e-05  1.198208e-05  6.623314e-04   \n",
       "ZJ016491     5.170743e-08  1.339245e-08  3.804797e-09  1.325649e-08   \n",
       "ZJ016492     3.025997e-01  3.499620e-03  3.343714e-03  4.479385e-05   \n",
       "...                   ...           ...           ...           ...   \n",
       "ZJ020947     1.017359e-03  3.281561e-04  2.065691e-04  2.117629e-07   \n",
       "ZJ020948     6.695337e-04  1.660851e-03  9.973227e-01  9.480266e-09   \n",
       "ZJ020949     9.704066e-01  1.633840e-08  2.289002e-02  6.612544e-03   \n",
       "ZJ020950     9.936637e-01  2.044215e-06  6.756863e-05  1.398843e-07   \n",
       "ZJ020951     3.988994e-07  1.269450e-07  1.151655e-04  4.567602e-11   \n",
       "\n",
       "                   hog       leopard  monkey_prosimian        rodent  \n",
       "ZJ016488  1.021933e-03  4.059860e-01      4.917143e-04  2.043385e-01  \n",
       "ZJ016489  4.944626e-08  1.454753e-09      6.687826e-06  3.644763e-08  \n",
       "ZJ016490  3.219967e-04  3.088149e-05      4.211601e-04  1.020992e-07  \n",
       "ZJ016491  4.449634e-09  9.999999e-01      1.692640e-10  4.026581e-11  \n",
       "ZJ016492  1.993265e-04  9.436923e-06      6.902849e-01  1.853017e-05  \n",
       "...                ...           ...               ...           ...  \n",
       "ZJ020947  2.014552e-05  2.915182e-05      9.983982e-01  8.489297e-08  \n",
       "ZJ020948  3.027177e-04  3.283553e-05      9.025878e-06  2.429917e-06  \n",
       "ZJ020949  7.379169e-05  2.454669e-07      7.149537e-07  1.611188e-05  \n",
       "ZJ020950  6.162533e-03  2.403719e-05      8.012909e-05  2.953884e-08  \n",
       "ZJ020951  6.035066e-08  9.998842e-01      1.325561e-09  6.416419e-12  \n",
       "\n",
       "[4464 rows x 8 columns]"
      ]
     },
     "execution_count": 28,
     "metadata": {},
     "output_type": "execute_result"
    }
   ],
   "source": [
    "preds_collector = []\n",
    "\n",
    "# put the model in eval mode so we don't update any parameters\n",
    "model.eval().to(\"cpu\")\n",
    "\n",
    "# we aren't updating our weights so no need to calculate gradients\n",
    "with torch.no_grad():\n",
    "    for batch in tqdm(test_dataloader, total=len(test_dataloader)):\n",
    "        # run the forward step\n",
    "        logits = model.forward(batch[\"image\"])\n",
    "        # apply softmax so that model outputs are in range [0,1]\n",
    "        preds = nn.functional.softmax(logits, dim=1)\n",
    "        # store this batch's predictions in df\n",
    "        # note that PyTorch Tensors need to first be detached from their computational graph before converting to numpy arrays\n",
    "        preds_df = pd.DataFrame(\n",
    "            preds.detach().numpy(),\n",
    "            index=batch[\"image_id\"],\n",
    "            columns=species_labels,\n",
    "        )\n",
    "        preds_collector.append(preds_df)\n",
    "\n",
    "submission_df = pd.concat(preds_collector)\n",
    "submission_df"
   ]
  },
  {
   "cell_type": "markdown",
   "metadata": {},
   "source": [
    "Let's check a couple things on `submission_df` before submitting to the platform. We'll want to make sure our submission's index and column labels match the submission format. (The DrivenData platform will do these data integrity checks as well, but it will be quicker to detect problems this way.)"
   ]
  },
  {
   "cell_type": "code",
   "execution_count": null,
   "metadata": {},
   "outputs": [],
   "source": [
    "submission_format = pd.read_csv(\"submission_format.csv\", index_col=\"id\")\n",
    "\n",
    "assert all(submission_df.index == submission_format.index)\n",
    "assert all(submission_df.columns == submission_format.columns)"
   ]
  },
  {
   "cell_type": "markdown",
   "metadata": {},
   "source": [
    "Looks like we're ready to submit! Save the dataframe out to a CSV file and then upload it via the [Submissions page](https://www.drivendata.org/competitions/87/competition-image-classification-wildlife-conservation/submissions/) on the competition website."
   ]
  },
  {
   "cell_type": "code",
   "execution_count": null,
   "metadata": {},
   "outputs": [],
   "source": [
    "submission_df.to_csv(\"submission_df.csv\")"
   ]
  },
  {
   "cell_type": "markdown",
   "metadata": {},
   "source": [
    "How did we do? We should get a score of ~1.8, though your results may differ slightly due to non-determinism in model training. (For reference, a randomly generated submission yields a score of something like ~2.4.)\n",
    "\n",
    "![benchmark submission](https://drivendata-public-assets.s3.amazonaws.com/conservision-benchmark-score.jpg)\n",
    "\n",
    "Now it is up to you to improve on this benchmark!\n",
    "\n",
    "Head over to the [competition](https://www.drivendata.org/competitions/87/competition-image-classification-wildlife-conservation/) for data and more background info, or the [competition forum](https://community.drivendata.org/c/conser-vision/87) if you have any questions. Good luck!"
   ]
  }
 ],
 "metadata": {
  "anaconda-cloud": {},
  "kernelspec": {
   "display_name": "Python 3 (ipykernel)",
   "language": "python",
   "name": "python3"
  },
  "language_info": {
   "codemirror_mode": {
    "name": "ipython",
    "version": 3
   },
   "file_extension": ".py",
   "mimetype": "text/x-python",
   "name": "python",
   "nbconvert_exporter": "python",
   "pygments_lexer": "ipython3",
   "version": "3.11.3"
  }
 },
 "nbformat": 4,
 "nbformat_minor": 4
}
